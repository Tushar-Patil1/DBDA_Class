{
 "cells": [
  {
   "cell_type": "code",
   "execution_count": 1,
   "id": "8c1bf180",
   "metadata": {},
   "outputs": [
    {
     "data": {
      "text/html": [
       "<style> div#notebook {\n",
       " font-family: sans-serif;\n",
       " font-size: 13pt;\n",
       " line-height: 170%;\n",
       " color: #cdd2e9;\n",
       " -webkit-font-smoothing: antialiased !important;\n",
       " padding-top: 25px !important;\n",
       "}\n",
       "body,\n",
       "div.body {\n",
       " font-family: sans-serif;\n",
       " font-size: 13pt;\n",
       " color: #a2b0c7;\n",
       " background-color: #1a2028;\n",
       " background: #1a2028;\n",
       " -webkit-font-smoothing: antialiased !important;\n",
       "}\n",
       "body.notebook_app {\n",
       " padding: 0;\n",
       " background-color: #1a2028;\n",
       " background: #1a2028;\n",
       " padding-right: 0px !important;\n",
       " overflow-y: hidden;\n",
       "}\n",
       "a {\n",
       " font-family: sans-serif;\n",
       " color: #a2b0c7;\n",
       " -webkit-font-smoothing: antialiased !important;\n",
       "}\n",
       "a:hover,\n",
       "a:focus {\n",
       " color: #dbe1ea;\n",
       " -webkit-font-smoothing: antialiased !important;\n",
       "}\n",
       "div#maintoolbar {\n",
       " position: absolute;\n",
       " width: 90%;\n",
       " margin-left: -10%;\n",
       " padding-right: 8%;\n",
       " float: left;\n",
       " background: transparent !important;\n",
       "}\n",
       "#maintoolbar {\n",
       " margin-bottom: -3px;\n",
       " margin-top: 0px;\n",
       " border: 0px;\n",
       " min-height: 27px;\n",
       " padding-top: 2px;\n",
       " padding-bottom: 0px;\n",
       "}\n",
       "#maintoolbar .container {\n",
       " width: 75%;\n",
       " margin-right: auto;\n",
       " margin-left: auto;\n",
       "}\n",
       ".list_header,\n",
       "div#notebook_list_header.row.list_header {\n",
       " font-size: 14pt;\n",
       " color: #dbe1ea;\n",
       " background-color: transparent;\n",
       " height: 35px;\n",
       "}\n",
       "i.fa.fa-folder {\n",
       " display: inline-block;\n",
       " font: normal normal normal 14px \"FontAwesome\";\n",
       " font-family: \"FontAwesome\" !important;\n",
       " text-rendering: auto;\n",
       " -webkit-font-smoothing: antialiased;\n",
       " font-size: 18px;\n",
       " -moz-osx-font-smoothing: grayscale;\n",
       "}\n",
       "#running .panel-group .panel .panel-heading {\n",
       " font-size: 14pt;\n",
       " color: #a2b0c7;\n",
       " padding: 8px 8px;\n",
       " background: #252b35;\n",
       " background-color: #252b35;\n",
       "}\n",
       "#running .panel-group .panel .panel-heading a {\n",
       " font-size: 14pt;\n",
       " color: #a2b0c7;\n",
       "}\n",
       "#running .panel-group .panel .panel-heading a:focus,\n",
       "#running .panel-group .panel .panel-heading a:hover {\n",
       " font-size: 14pt;\n",
       " color: #a2b0c7;\n",
       "}\n",
       "#running .panel-group .panel .panel-body .list_container .list_item {\n",
       " background: #2d3846;\n",
       " background-color: #2d3846;\n",
       " padding: 2px;\n",
       " border-bottom: 2px solid rgba(75,95,118,.30);\n",
       "}\n",
       "#running .panel-group .panel .panel-body .list_container .list_item:hover {\n",
       " background: #2d3846;\n",
       " background-color: #2d3846;\n",
       "}\n",
       "#running .panel-group .panel .panel-body {\n",
       " padding: 2px;\n",
       "}\n",
       "button#refresh_running_list {\n",
       " border: none !important;\n",
       "}\n",
       "button#refresh_cluster_list {\n",
       " border: none !important;\n",
       "}\n",
       "div.running_list_info.toolbar_info {\n",
       " font-size: 15px;\n",
       " padding: 4px 0 4px 0;\n",
       " margin-top: 5px;\n",
       " margin-bottom: 8px;\n",
       " height: 24px;\n",
       " line-height: 24px;\n",
       " text-shadow: none;\n",
       "}\n",
       ".list_placeholder {\n",
       " font-weight: normal;\n",
       "}\n",
       "#tree-selector {\n",
       " padding: 0px;\n",
       " border-color: transparent;\n",
       "}\n",
       "#project_name > ul > li > a > i.fa.fa-home {\n",
       " color: #0b98c8;\n",
       " font-size: 17pt;\n",
       " display: inline-block;\n",
       " position: static;\n",
       " padding: 0px 0px;\n",
       " font-weight: normal;\n",
       " text-align: center;\n",
       " vertical-align: text-top;\n",
       "}\n",
       ".fa-folder:before {\n",
       " color: #4c8be2;\n",
       "}\n",
       ".fa-arrow-up:before {\n",
       " font-size: 14px;\n",
       "}\n",
       ".fa-arrow-down:before {\n",
       " font-size: 14px;\n",
       "}\n",
       "span#last-modified.btn.btn-xs.btn-default.sort-action:hover .fa,\n",
       "span#sort-name.btn.btn-xs.btn-default.sort-action:hover .fa {\n",
       " color: #009cd1;\n",
       "}\n",
       ".folder_icon:before {\n",
       " display: inline-block;\n",
       " font: normal normal normal 14px/1 FontAwesome;\n",
       " font-size: inherit;\n",
       " text-rendering: auto;\n",
       " -webkit-font-smoothing: antialiased;\n",
       " -moz-osx-font-smoothing: grayscale;\n",
       " content: \"\\f07b\";\n",
       " color: #4c8be2;\n",
       "}\n",
       ".notebook_icon:before {\n",
       " display: inline-block;\n",
       " font: normal normal normal 14px/1 FontAwesome;\n",
       " font-size: inherit;\n",
       " text-rendering: auto;\n",
       " -webkit-font-smoothing: antialiased;\n",
       " -moz-osx-font-smoothing: grayscale;\n",
       " content: \"\\f02d\";\n",
       " position: relative;\n",
       " color: #48a667 !important;\n",
       " top: 0px;\n",
       "}\n",
       ".file_icon:before {\n",
       " display: inline-block;\n",
       " font: normal normal normal 14px/1 FontAwesome;\n",
       " font-size: inherit;\n",
       " text-rendering: auto;\n",
       " -webkit-font-smoothing: antialiased;\n",
       " -moz-osx-font-smoothing: grayscale;\n",
       " content: \"\\f15b\";\n",
       " position: relative;\n",
       " top: 0px;\n",
       " color: #92a2bd !important;\n",
       "}\n",
       "#project_name a {\n",
       " display: inline-flex;\n",
       " padding-left: 7px;\n",
       " margin-left: -2px;\n",
       " text-align: -webkit-auto;\n",
       " vertical-align: baseline;\n",
       " font-size: 18px;\n",
       "}\n",
       "div#notebook_toolbar div.dynamic-instructions {\n",
       " font-family: sans-serif;\n",
       " font-size: 17px;\n",
       " color: #546386;\n",
       "}\n",
       "span#login_widget > .button,\n",
       "#logout {\n",
       " font-family: \"Proxima Nova\", sans-serif;\n",
       " color: #a2b0c7;\n",
       " background: transparent;\n",
       " background-color: transparent;\n",
       " border: 2px solid #252e3a;\n",
       " font-weight: normal;\n",
       " box-shadow: none;\n",
       " text-shadow: none;\n",
       " border-radius: 3px;\n",
       " margin-right: 10px;\n",
       " padding: 2px 7px;\n",
       "}\n",
       "span#login_widget > .button:hover,\n",
       "#logout:hover {\n",
       " color: #009cd1;\n",
       " background-color: transparent;\n",
       " background: transparent;\n",
       " border: 2px solid #009cd1;\n",
       " background-image: none;\n",
       " box-shadow: none !important;\n",
       " border-radius: 3px;\n",
       "}\n",
       "span#login_widget > .button:focus,\n",
       "#logout:focus,\n",
       "span#login_widget > .button.focus,\n",
       "#logout.focus,\n",
       "span#login_widget > .button:active,\n",
       "#logout:active,\n",
       "span#login_widget > .button.active,\n",
       "#logout.active,\n",
       ".open > .dropdown-togglespan#login_widget > .button,\n",
       ".open > .dropdown-toggle#logout {\n",
       " color: #fefefe;\n",
       " background-color: #a2b0c7;\n",
       " background: #a2b0c7;\n",
       " border-color: #a2b0c7;\n",
       " background-image: none;\n",
       " box-shadow: none !important;\n",
       " border-radius: 2px;\n",
       "}\n",
       "body > #header #header-container {\n",
       " padding-bottom: 0px;\n",
       " padding-top: 4px;\n",
       " box-sizing: border-box;\n",
       " -moz-box-sizing: border-box;\n",
       " -webkit-box-sizing: border-box;\n",
       "}\n",
       "body > #header {\n",
       " background: #1a2028;\n",
       " background-color: #1a2028;\n",
       " position: relative;\n",
       " z-index: 100;\n",
       "}\n",
       ".list_container {\n",
       " font-size: 13pt;\n",
       " color: #a2b0c7;\n",
       " border: none;\n",
       " text-shadow: none !important;\n",
       "}\n",
       ".list_container > div {\n",
       " border-bottom: 1px solid rgba(75,95,118,.30);\n",
       " font-size: 13pt;\n",
       "}\n",
       ".list_header > div,\n",
       ".list_item > div {\n",
       " padding-top: 6px;\n",
       " padding-bottom: 2px;\n",
       " padding-left: 0px;\n",
       "}\n",
       ".list_header > div .item_link,\n",
       ".list_item > div .item_link {\n",
       " margin-left: -1px;\n",
       " vertical-align: middle;\n",
       " line-height: 22px;\n",
       " font-size: 13pt;\n",
       "}\n",
       ".item_icon {\n",
       " color: #4c8be2;\n",
       " font-size: 13pt;\n",
       " vertical-align: middle;\n",
       "}\n",
       ".list_item input:not([type=\"checkbox\"]) {\n",
       " padding-right: 0px;\n",
       " height: 1.75em;\n",
       " width: 25%;\n",
       " margin: 0px 0 0;\n",
       " margin-top: 0px;\n",
       "}\n",
       ".list_header > div .item_link,\n",
       ".list_item > div .item_link {\n",
       " margin-left: -1px;\n",
       " vertical-align: middle;\n",
       " line-height: 1.5em;\n",
       " font-size: 12pt;\n",
       " display: inline-table;\n",
       " position: static;\n",
       "}\n",
       "#button-select-all {\n",
       " height: 34px;\n",
       " min-width: 55px;\n",
       " z-index: 0;\n",
       " border: none !important;\n",
       " padding-top: 0px;\n",
       " padding-bottom: 0px;\n",
       " margin-bottom: 0px;\n",
       " margin-top: 0px;\n",
       " left: -3px;\n",
       " border-radius: 0px !important;\n",
       "}\n",
       "#button-select-all:focus,\n",
       "#button-select-all:active:focus,\n",
       "#button-select-all.active:focus,\n",
       "#button-select-all.focus,\n",
       "#button-select-all:active.focus,\n",
       "#button-select-all.active.focus {\n",
       " background-color: #252e3a !important;\n",
       " background: #252e3a !important;\n",
       "}\n",
       "button#tree-selector-btn {\n",
       " height: 34px;\n",
       " font-size: 12.0pt;\n",
       " border: none;\n",
       " left: 0px;\n",
       " border-radius: 0px !important;\n",
       "}\n",
       "input#select-all.pull-left.tree-selector {\n",
       " margin-left: 7px;\n",
       " margin-right: 2px;\n",
       " margin-top: 2px;\n",
       " top: 4px;\n",
       "}\n",
       "input[type=\"radio\"],\n",
       "input[type=\"checkbox\"] {\n",
       " margin-top: 1px;\n",
       " line-height: normal;\n",
       "}\n",
       ".delete-button {\n",
       " border: none !important;\n",
       "}\n",
       "i.fa.fa-trash {\n",
       " font-size: 13.5pt;\n",
       "}\n",
       ".list_container a {\n",
       " font-size: 16px;\n",
       " color: #a2b0c7;\n",
       " border: none;\n",
       " text-shadow: none !important;\n",
       " font-weight: normal;\n",
       " font-style: normal;\n",
       "}\n",
       "div.list_container a:hover {\n",
       " color: #dbe1ea;\n",
       "}\n",
       ".list_header > div input,\n",
       ".list_item > div input {\n",
       " margin-right: 7px;\n",
       " margin-left: 12px;\n",
       " vertical-align: baseline;\n",
       " line-height: 22px;\n",
       " position: relative;\n",
       " top: -1px;\n",
       "}\n",
       "div.list_item:hover {\n",
       " background-color: rgba(75,95,118,.10);\n",
       "}\n",
       ".breadcrumb > li {\n",
       " font-size: 12.0pt;\n",
       " color: #a2b0c7;\n",
       " border: none;\n",
       " text-shadow: none !important;\n",
       "}\n",
       ".breadcrumb > li + li:before {\n",
       " content: \"/\\00a0\";\n",
       " padding: 0px;\n",
       " color: #a2b0c7;\n",
       " font-size: 18px;\n",
       "}\n",
       "#project_name > .breadcrumb {\n",
       " padding: 0px;\n",
       " margin-bottom: 0px;\n",
       " background-color: transparent;\n",
       " font-weight: normal;\n",
       " margin-top: -2px;\n",
       "}\n",
       "ul#tabs a {\n",
       " font-family: sans-serif;\n",
       " font-size: 13.5pt;\n",
       " font-weight: normal;\n",
       " font-style: normal;\n",
       " text-shadow: none !important;\n",
       "}\n",
       ".nav-tabs {\n",
       " font-family: sans-serif;\n",
       " font-size: 13.5pt;\n",
       " font-weight: normal;\n",
       " font-style: normal;\n",
       " background-color: transparent;\n",
       " border-color: transparent;\n",
       " text-shadow: none !important;\n",
       " border: 2px solid transparent;\n",
       "}\n",
       ".nav-tabs > li > a:active,\n",
       ".nav-tabs > li > a:focus,\n",
       ".nav-tabs > li > a:hover,\n",
       ".nav-tabs > li.active > a,\n",
       ".nav-tabs > li.active > a:focus,\n",
       ".nav-tabs > li.active > a:hover,\n",
       ".nav-tabs > li.active > a,\n",
       ".nav-tabs > li.active > a:hover,\n",
       ".nav-tabs > li.active > a:focus {\n",
       " color: #009cd1;\n",
       " background-color: transparent;\n",
       " border-color: transparent;\n",
       " border-bottom: 2px solid transparent;\n",
       "}\n",
       ".nav > li.disabled > a,\n",
       ".nav > li.disabled > a:hover {\n",
       " color: #546386;\n",
       "}\n",
       ".nav-tabs > li > a:before {\n",
       " content: \"\";\n",
       " position: absolute;\n",
       " width: 100%;\n",
       " height: 2px;\n",
       " bottom: -2px;\n",
       " left: 0;\n",
       " background-color: #009cd1;\n",
       " visibility: hidden;\n",
       " -webkit-transform: perspective(0)scaleX(0);\n",
       " transform: perspective(0)scaleX(0);\n",
       " -webkit-transition: ease 220ms;\n",
       " transition: ease 220ms;\n",
       " -webkit-font-smoothing: antialiased !important;\n",
       "}\n",
       ".nav-tabs > li > a:hover:before {\n",
       " visibility: visible;\n",
       " -webkit-transform: perspective(1)scaleX(1);\n",
       " transform: perspective(1)scaleX(1);\n",
       "}\n",
       ".nav-tabs > li.active > a:before {\n",
       " content: \"\";\n",
       " position: absolute;\n",
       " width: 100%;\n",
       " height: 2px;\n",
       " bottom: -2px;\n",
       " left: 0;\n",
       " background-color: #009cd1;\n",
       " visibility: visible;\n",
       " -webkit-transform: perspective(1)scaleX(1);\n",
       " transform: perspective(1)scaleX(1);\n",
       " -webkit-font-smoothing: subpixel-antialiased !important;\n",
       "}\n",
       "div#notebook {\n",
       " font-family: sans-serif;\n",
       " font-size: 13pt;\n",
       " padding-top: 4px;\n",
       "}\n",
       ".notebook_app {\n",
       " background-color: #1a2028;\n",
       "}\n",
       "#notebook-container {\n",
       " padding: 13px 2px;\n",
       " background-color: #1a2028;\n",
       " min-height: 0px;\n",
       " box-shadow: none;\n",
       " width: 980px;\n",
       " margin-right: auto;\n",
       " margin-left: auto;\n",
       "}\n",
       "div#ipython-main-app.container {\n",
       " width: 980px;\n",
       " margin-right: auto;\n",
       " margin-left: auto;\n",
       " margin-right: auto;\n",
       " margin-left: auto;\n",
       "}\n",
       ".container {\n",
       " width: 980px;\n",
       " margin-right: auto;\n",
       " margin-left: auto;\n",
       "}\n",
       "div#menubar-container {\n",
       " width: 100%;\n",
       " width: 980px;\n",
       "}\n",
       "div#header-container {\n",
       " width: 980px;\n",
       "}\n",
       ".notebook_app #header,\n",
       ".edit_app #header {\n",
       " box-shadow: none !important;\n",
       " background-color: #1a2028;\n",
       " border-bottom: 2px solid rgba(75,95,118,.30);\n",
       "}\n",
       "#header,\n",
       ".edit_app #header {\n",
       " font-family: sans-serif;\n",
       " font-size: 13pt;\n",
       " box-shadow: none;\n",
       " background-color: #1a2028;\n",
       "}\n",
       "#header .header-bar,\n",
       ".edit_app #header .header-bar {\n",
       " background: #1a2028;\n",
       " background-color: #1a2028;\n",
       "}\n",
       "body > #header .header-bar {\n",
       " width: 100%;\n",
       " background: #1a2028;\n",
       "}\n",
       "span.checkpoint_status,\n",
       "span.autosave_status {\n",
       " font-size: small;\n",
       " display: none;\n",
       "}\n",
       "#menubar,\n",
       "div#menubar {\n",
       " background-color: #1a2028;\n",
       " padding-top: 0px !important;\n",
       "}\n",
       "#menubar .navbar,\n",
       ".navbar-default {\n",
       " background-color: #1a2028;\n",
       " margin-bottom: 0px;\n",
       " margin-top: 0px;\n",
       "}\n",
       ".navbar {\n",
       " border: none;\n",
       "}\n",
       "div.navbar-text,\n",
       ".navbar-text,\n",
       ".navbar-text.indicator_area,\n",
       "p.navbar-text.indicator_area {\n",
       " margin-top: 8px !important;\n",
       " margin-bottom: 0px;\n",
       " color: #0b98c8;\n",
       "}\n",
       ".navbar-default {\n",
       " font-family: sans-serif;\n",
       " font-size: 13pt;\n",
       " background-color: #1a2028;\n",
       " border-color: #323b48;\n",
       " line-height: 1.5em;\n",
       " padding-bottom: 0px;\n",
       "}\n",
       ".navbar-default .navbar-nav > li > a {\n",
       " font-family: sans-serif;\n",
       " font-size: 13pt;\n",
       " color: #a2b0c7;\n",
       " display: block;\n",
       " line-height: 1.5em;\n",
       " padding-top: 14px;\n",
       " padding-bottom: 11px;\n",
       "}\n",
       ".navbar-default .navbar-nav > li > a:hover,\n",
       ".navbar-default .navbar-nav > li > a:focus {\n",
       " color: #dbe1ea !important;\n",
       " background-color: rgba(75,95,118,.30) !important;\n",
       " border-color: #323b48 !important;\n",
       " line-height: 1.5em;\n",
       " transition: 80ms ease;\n",
       "}\n",
       ".navbar-default .navbar-nav > .open > a,\n",
       ".navbar-default .navbar-nav > .open > a:hover,\n",
       ".navbar-default .navbar-nav > .open > a:focus {\n",
       " color: #fefefe;\n",
       " background-color: #36404e;\n",
       " border-color: #36404e;\n",
       " line-height: 1.5em;\n",
       "}\n",
       ".navbar-nav > li > .dropdown-menu {\n",
       " margin-top: 0px;\n",
       "}\n",
       ".navbar-nav {\n",
       " margin: 0;\n",
       "}\n",
       "div.notification_widget.info,\n",
       ".notification_widget.info,\n",
       ".notification_widget:active:hover,\n",
       ".notification_widget.active:hover,\n",
       ".open > .dropdown-toggle.notification_widget:hover,\n",
       ".notification_widget:active:focus,\n",
       ".notification_widget.active:focus,\n",
       ".open > .dropdown-toggle.notification_widget:focus,\n",
       ".notification_widget:active.focus,\n",
       ".notification_widget.active.focus,\n",
       ".open > .dropdown-toggle.notification_widget.focus,\n",
       "div#notification_notebook.notification_widget.btn.btn-xs.navbar-btn,\n",
       "div#notification_notebook.notification_widget.btn.btn-xs.navbar-btn:hover,\n",
       "div#notification_notebook.notification_widget.btn.btn-xs.navbar-btn:focus {\n",
       " color: #899ab8 !important;\n",
       " background-color: transparent !important;\n",
       " border-color: transparent !important;\n",
       " padding-bottom: 0px !important;\n",
       " margin-bottom: 0px !important;\n",
       " font-size: 9pt !important;\n",
       " z-index: 0;\n",
       "}\n",
       "div#notification_notebook.notification_widget.btn.btn-xs.navbar-btn {\n",
       " font-size: 9pt !important;\n",
       " z-index: 0;\n",
       "}\n",
       ".notification_widget {\n",
       " color: #4c8be2;\n",
       " z-index: -500;\n",
       " font-size: 9pt;\n",
       " background: transparent;\n",
       " background-color: transparent;\n",
       " margin-right: 3px;\n",
       " border: none;\n",
       "}\n",
       ".notification_widget,\n",
       "div.notification_widget {\n",
       " margin-right: 0px;\n",
       " margin-left: 0px;\n",
       " padding-right: 0px;\n",
       " vertical-align: text-top !important;\n",
       " margin-top: 6px !important;\n",
       " background: transparent !important;\n",
       " background-color: transparent !important;\n",
       " font-size: 9pt !important;\n",
       " border: none;\n",
       "}\n",
       ".navbar-btn.btn-xs:hover {\n",
       " border: none !important;\n",
       " background: transparent !important;\n",
       " background-color: transparent !important;\n",
       " color: #a2b0c7 !important;\n",
       "}\n",
       "div.notification_widget.info,\n",
       ".notification_widget.info {\n",
       " display: none !important;\n",
       "}\n",
       ".edit_mode .modal_indicator:before {\n",
       " display: none;\n",
       "}\n",
       ".command_mode .modal_indicator:before {\n",
       " display: none;\n",
       "}\n",
       ".item_icon {\n",
       " color: #4c8be2;\n",
       "}\n",
       ".item_buttons .kernel-name {\n",
       " font-size: 13pt;\n",
       " color: #4c8be2;\n",
       "}\n",
       ".running_notebook_icon:before {\n",
       " color: #48a667 !important;\n",
       " font: normal normal normal 15px/1 FontAwesome;\n",
       " font-size: 15px;\n",
       " text-rendering: auto;\n",
       " -webkit-font-smoothing: antialiased;\n",
       " -moz-osx-font-smoothing: grayscale;\n",
       " content: \"\\f10c\";\n",
       " vertical-align: middle;\n",
       " position: static;\n",
       " display: inherit;\n",
       "}\n",
       ".item_buttons .running-indicator {\n",
       " padding-top: 4px;\n",
       " color: #48a667;\n",
       " font-family: sans-serif;\n",
       " text-rendering: auto;\n",
       " -webkit-font-smoothing: antialiased;\n",
       "}\n",
       "#notification_trusted {\n",
       " font-family: sans-serif;\n",
       " border: none;\n",
       " background: transparent;\n",
       " background-color: transparent;\n",
       " margin-bottom: 0px !important;\n",
       " vertical-align: bottom !important;\n",
       " color: #546386 !important;\n",
       " cursor: default !important;\n",
       "}\n",
       "#notification_area,\n",
       "div.notification_area {\n",
       " float: right !important;\n",
       " position: static;\n",
       " cursor: pointer;\n",
       " padding-top: 6px;\n",
       " padding-right: 4px;\n",
       "}\n",
       "div#notification_notebook.notification_widget.btn.btn-xs.navbar-btn {\n",
       " font-size: 9pt !important;\n",
       " z-index: 0;\n",
       " margin-top: -5px !important;\n",
       "}\n",
       "#modal_indicator {\n",
       " float: right !important;\n",
       " color: #4c8be2;\n",
       " background: #1a2028;\n",
       " background-color: #1a2028;\n",
       " margin-top: 8px !important;\n",
       " margin-left: 0px;\n",
       "}\n",
       "#kernel_indicator {\n",
       " float: right !important;\n",
       " color: #0b98c8;\n",
       " background: #1a2028;\n",
       " background-color: #1a2028;\n",
       " border-left: 2px solid #0b98c8;\n",
       " padding-top: 0px;\n",
       " padding-bottom: 4px;\n",
       " margin-top: 10px !important;\n",
       " margin-left: -2px;\n",
       " padding-left: 5px !important;\n",
       "}\n",
       "#kernel_indicator .kernel_indicator_name {\n",
       " font-size: 17px;\n",
       " color: #0b98c8;\n",
       " background: #1a2028;\n",
       " background-color: #1a2028;\n",
       " padding-left: 5px;\n",
       " padding-right: 5px;\n",
       " margin-top: 4px;\n",
       " vertical-align: text-top;\n",
       " padding-bottom: 0px;\n",
       "}\n",
       ".kernel_idle_icon:before {\n",
       " display: inline-block;\n",
       " font: normal normal normal 22px/1 FontAwesome;\n",
       " font-size: 22px;\n",
       " text-rendering: auto;\n",
       " -webkit-font-smoothing: antialiased;\n",
       " cursor: pointer;\n",
       " margin-left: 0px !important;\n",
       " opacity: 0.7;\n",
       " vertical-align: bottom;\n",
       " margin-top: 1px;\n",
       " content: \"\\f1db\";\n",
       "}\n",
       ".kernel_busy_icon:before {\n",
       " display: inline-block;\n",
       " font: normal normal normal 22px/1 FontAwesome;\n",
       " font-size: 22px;\n",
       " -webkit-animation: pulsate 2s infinite ease-out;\n",
       " animation: pulsate 2s infinite ease-out;\n",
       " text-rendering: auto;\n",
       " -webkit-font-smoothing: antialiased;\n",
       " cursor: pointer;\n",
       " margin-left: 0px !important;\n",
       " vertical-align: bottom;\n",
       " margin-top: 1px;\n",
       " content: \"\\f111\";\n",
       "}\n",
       "@-webkit-keyframes pulsate {\n",
       " 0% {\n",
       "  -webkit-transform: scale(1.0,1.0);\n",
       "  opacity: 0.8;\n",
       " }\n",
       " 8% {\n",
       "  -webkit-transform: scale(1.0,1.0);\n",
       "  opacity: 0.8;\n",
       " }\n",
       " 50% {\n",
       "  -webkit-transform: scale(0.75,0.75);\n",
       "  opacity: 0.3;\n",
       " }\n",
       " 92% {\n",
       "  -webkit-transform: scale(1.0,1.0);\n",
       "  opacity: 0.8;\n",
       " }\n",
       " 100% {\n",
       "  -webkit-transform: scale(1.0,1.0);\n",
       "  opacity: 0.8;\n",
       " }\n",
       "}\n",
       "div.notification_widget.info,\n",
       ".notification_widget.info,\n",
       ".notification_widget:active:hover,\n",
       ".notification_widget.active:hover,\n",
       ".open > .dropdown-toggle.notification_widget:hover,\n",
       ".notification_widget:active:focus,\n",
       ".notification_widget.active:focus,\n",
       ".open > .dropdown-toggle.notification_widget:focus,\n",
       ".notification_widget:active.focus,\n",
       ".notification_widget.active.focus,\n",
       ".open > .dropdown-toggle.notification_widget.focus,\n",
       "div#notification_notebook.notification_widget.btn.btn-xs.navbar-btn,\n",
       "div#notification_notebook.notification_widget.btn.btn-xs.navbar-btn:hover,\n",
       "div#notification_notebook.notification_widget.btn.btn-xs.navbar-btn:focus {\n",
       " color: #899ab8;\n",
       " background-color: #1a2028;\n",
       " border-color: #1a2028;\n",
       "}\n",
       "#notification_area,\n",
       "div.notification_area {\n",
       " float: right !important;\n",
       " position: static;\n",
       "}\n",
       ".notification_widget,\n",
       "div.notification_widget {\n",
       " margin-right: 0px;\n",
       " margin-left: 0px;\n",
       " padding-right: 0px;\n",
       " vertical-align: text-top !important;\n",
       " margin-top: 6px !important;\n",
       " z-index: 1000;\n",
       "}\n",
       "#kernel_logo_widget,\n",
       "#kernel_logo_widget .current_kernel_logo {\n",
       " display: none;\n",
       "}\n",
       "div#ipython_notebook {\n",
       " display: none;\n",
       "}\n",
       "i.fa.fa-icon {\n",
       " -webkit-font-smoothing: antialiased;\n",
       " -moz-osx-font-smoothing: grayscale;\n",
       " text-rendering: auto;\n",
       "}\n",
       ".fa {\n",
       " display: inline-block;\n",
       " font: normal normal normal 10pt/1 \"FontAwesome\", sans-serif;\n",
       " text-rendering: auto;\n",
       " -webkit-font-smoothing: antialiased;\n",
       " -moz-osx-font-smoothing: grayscale;\n",
       "}\n",
       ".dropdown-menu {\n",
       " font-family: sans-serif;\n",
       " font-size: 13pt;\n",
       " box-shadow: none;\n",
       " padding: 0px;\n",
       " text-align: left;\n",
       " border: none;\n",
       " background-color: #36404e;\n",
       " background: #36404e;\n",
       " line-height: 1;\n",
       "}\n",
       ".dropdown-menu:hover {\n",
       " font-family: sans-serif;\n",
       " font-size: 13pt;\n",
       " box-shadow: none;\n",
       " padding: 0px;\n",
       " text-align: left;\n",
       " border: none;\n",
       " background-color: #36404e;\n",
       " box-shadow: none;\n",
       " line-height: 1;\n",
       "}\n",
       ".dropdown-menu > li > a {\n",
       " font-family: sans-serif;\n",
       " font-size: 12.0pt;\n",
       " display: block;\n",
       " padding: 10px 20px 9px 10px;\n",
       " color: #a2b0c7;\n",
       " background-color: #36404e;\n",
       " background: #36404e;\n",
       "}\n",
       ".dropdown-menu > li > a:hover,\n",
       ".dropdown-menu > li > a:focus {\n",
       " color: #dbe1ea;\n",
       " background-color: #323b48;\n",
       " background: #323b48;\n",
       " border-color: #323b48;\n",
       " transition: 200ms ease;\n",
       "}\n",
       ".dropdown-menu .divider {\n",
       " height: 1px;\n",
       " margin: 0px 0px;\n",
       " overflow: hidden;\n",
       " background-color: rgba(75,95,118,.55);\n",
       "}\n",
       ".dropdown-submenu > .dropdown-menu {\n",
       " display: none;\n",
       " top: 2px !important;\n",
       " left: 100%;\n",
       " margin-top: -2px;\n",
       " margin-left: 0px;\n",
       " padding-top: 0px;\n",
       " transition: 200ms ease;\n",
       "}\n",
       ".dropdown-menu > .disabled > a,\n",
       ".dropdown-menu > .disabled > a:hover,\n",
       ".dropdown-menu > .disabled > a:focus {\n",
       " font-family: sans-serif;\n",
       " font-size: 12.0pt;\n",
       " font-weight: normal;\n",
       " color: #546386;\n",
       " padding: none;\n",
       " display: block;\n",
       " clear: both;\n",
       " white-space: nowrap;\n",
       "}\n",
       ".dropdown-submenu > a:after {\n",
       " color: #a2b0c7;\n",
       " margin-right: -16px;\n",
       " margin-top: 0px;\n",
       " display: inline-block;\n",
       "}\n",
       ".dropdown-submenu:hover > a:after,\n",
       ".dropdown-submenu:active > a:after,\n",
       ".dropdown-submenu:focus > a:after,\n",
       ".dropdown-submenu:visited > a:after {\n",
       " color: #0b98c8;\n",
       " margin-right: -16px;\n",
       " display: inline-block !important;\n",
       "}\n",
       "div.kse-dropdown > .dropdown-menu,\n",
       ".kse-dropdown > .dropdown-menu {\n",
       " min-width: 0;\n",
       " top: 94%;\n",
       "}\n",
       ".btn,\n",
       ".btn-default {\n",
       " font-family: sans-serif;\n",
       " color: #a2b0c7;\n",
       " background: #252e3a;\n",
       " background-color: #252e3a;\n",
       " border: 2px solid #252e3a;\n",
       " font-weight: normal;\n",
       " box-shadow: none;\n",
       " text-shadow: none;\n",
       " border-radius: 3px;\n",
       " font-size: initial;\n",
       "}\n",
       ".btn:hover,\n",
       ".btn:active:hover,\n",
       ".btn.active:hover,\n",
       ".btn-default:hover,\n",
       ".open > .dropdown-toggle.btn-default:hover,\n",
       ".open > .dropdown-toggle.btn:hover {\n",
       " color: #009cd1;\n",
       " border: 2px solid #293340;\n",
       " background-color: #293340;\n",
       " background: #293340;\n",
       " background-image: none;\n",
       " box-shadow: none !important;\n",
       " border-radius: 3px;\n",
       "}\n",
       ".btn:active,\n",
       ".btn.active,\n",
       ".btn:active:focus,\n",
       ".btn.active:focus,\n",
       ".btn:active.focus,\n",
       ".btn.active.focus,\n",
       ".btn-default:focus,\n",
       ".btn-default.focus,\n",
       ".btn-default:active,\n",
       ".btn-default.active,\n",
       ".btn-default:active:hover,\n",
       ".btn-default.active:hover,\n",
       ".btn-default:active:focus,\n",
       ".btn-default.active:focus,\n",
       ".btn-default:active.focus,\n",
       ".btn-default.active.focus,\n",
       ".open > .dropdown-toggle.btn:focus,\n",
       ".open > .dropdown-toggle.btn.focus,\n",
       ".open > .dropdown-toggle.btn-default:hover,\n",
       ".open > .dropdown-toggle.btn-default:focus,\n",
       ".open > .dropdown-toggle.btn-default.hover,\n",
       ".open > .dropdown-toggle.btn-default.focus {\n",
       " color: #009cd1;\n",
       " border: 2px solid #293340;\n",
       " background-color: #293340 !important;\n",
       " background: #293340 !important;\n",
       " background-image: none;\n",
       " box-shadow: none !important;\n",
       " border-radius: 3px;\n",
       "}\n",
       ".btn-default:active:hover,\n",
       ".btn-default.active:hover,\n",
       ".btn-default:active:focus,\n",
       ".btn-default.active:focus,\n",
       ".btn-default:active.focus,\n",
       ".btn-default.active.focus {\n",
       " color: #009cd1 !important;\n",
       " background-color: #252e3a;\n",
       " border-color: #33517c !important;\n",
       " transition: 2000ms ease;\n",
       "}\n",
       ".btn:focus,\n",
       ".btn.focus,\n",
       ".btn:active:focus,\n",
       ".btn.active:focus,\n",
       ".btn:active,\n",
       ".btn.active,\n",
       ".btn:active.focus,\n",
       ".btn.active.focus {\n",
       " color: #009cd1 !important;\n",
       " outline: none !important;\n",
       " outline-width: 0px !important;\n",
       " background: #33517c !important;\n",
       " background-color: #33517c !important;\n",
       " border-color: #33517c !important;\n",
       " transition: 200ms ease !important;\n",
       "}\n",
       ".item_buttons > .btn,\n",
       ".item_buttons > .btn-group,\n",
       ".item_buttons > .input-group {\n",
       " font-size: 13pt;\n",
       " background: transparent;\n",
       " background-color: transparent;\n",
       " border: 0px solid #252b35;\n",
       " border-bottom: 2px solid transparent;\n",
       " margin-left: 5px;\n",
       " padding-top: 4px !important;\n",
       "}\n",
       ".item_buttons > .btn:hover,\n",
       ".item_buttons > .btn-group:hover,\n",
       ".item_buttons > .input-group:hover,\n",
       ".item_buttons > .btn.active,\n",
       ".item_buttons > .btn-group.active,\n",
       ".item_buttons > .input-group.active,\n",
       ".item_buttons > .btn.focus {\n",
       " margin-left: 5px;\n",
       " background: #21262f;\n",
       " padding-top: 4px !important;\n",
       " background-color: transparent;\n",
       " border: 0px solid transparent;\n",
       " border-bottom: 2px solid #0b98c8;\n",
       " border-radius: 0px;\n",
       " transition: none;\n",
       "}\n",
       ".item_buttons {\n",
       " line-height: 1.5em !important;\n",
       "}\n",
       ".item_buttons .btn {\n",
       " min-width: 11ex;\n",
       "}\n",
       ".btn-group > .btn:first-child {\n",
       " margin-left: 3px;\n",
       "}\n",
       ".btn-group > .btn-mini,\n",
       ".btn-sm,\n",
       ".btn-group-sm > .btn,\n",
       ".btn-xs,\n",
       ".btn-group-xs > .btn,\n",
       ".alternate_upload .btn-upload,\n",
       ".btn-group,\n",
       ".btn-group-vertical {\n",
       " font-size: inherit;\n",
       " font-weight: normal;\n",
       " height: inherit;\n",
       " line-height: inherit;\n",
       "}\n",
       ".btn-xs,\n",
       ".btn-group-xs > .btn {\n",
       " font-size: initial !important;\n",
       " background-image: none;\n",
       " font-weight: normal;\n",
       " text-shadow: none;\n",
       " display: inline-table;\n",
       " padding: 2px 5px;\n",
       " line-height: 1.45;\n",
       "}\n",
       ".btn-group > .btn:first-child {\n",
       " margin-left: 3px;\n",
       "}\n",
       "div#new-buttons > button,\n",
       "#new-buttons > button,\n",
       "div#refresh_notebook_list,\n",
       "#refresh_notebook_list {\n",
       " background: transparent;\n",
       " background-color: transparent;\n",
       " border: none;\n",
       "}\n",
       "div#new-buttons > button:hover,\n",
       "#new-buttons > button:hover,\n",
       "div#refresh_notebook_list,\n",
       "#refresh_notebook_list,\n",
       "div.alternate_upload .btn-upload,\n",
       ".alternate_upload .btn-upload,\n",
       "div.dynamic-buttons > button,\n",
       ".dynamic-buttons > button,\n",
       ".dynamic-buttons > button:focus,\n",
       ".dynamic-buttons > button:active:focus,\n",
       ".dynamic-buttons > button.active:focus,\n",
       ".dynamic-buttons > button.focus,\n",
       ".dynamic-buttons > button:active.focus,\n",
       ".dynamic-buttons > button.active.focus,\n",
       "#new-buttons > button:focus,\n",
       "#new-buttons > button:active:focus,\n",
       "#new-buttons > button.active:focus,\n",
       "#new-buttons > button.focus,\n",
       "#new-buttons > button:active.focus,\n",
       "#new-buttons > button.active.focus,\n",
       ".alternate_upload .btn-upload:focus,\n",
       ".alternate_upload .btn-upload:active:focus,\n",
       ".alternate_upload .btn-upload.active:focus,\n",
       ".alternate_upload .btn-upload.focus,\n",
       ".alternate_upload .btn-upload:active.focus,\n",
       ".alternate_upload .btn-upload.active.focus {\n",
       " background: transparent !important;\n",
       " background-color: transparent !important;\n",
       " border: none !important;\n",
       "}\n",
       ".alternate_upload input.fileinput {\n",
       " text-align: center;\n",
       " vertical-align: bottom;\n",
       " margin-left: -.5ex;\n",
       " display: inline-table;\n",
       " border: solid 0px #252e3a;\n",
       " margin-bottom: -1ex;\n",
       "}\n",
       ".alternate_upload .btn-upload {\n",
       " display: inline-table;\n",
       " background: transparent;\n",
       " border: none;\n",
       "}\n",
       ".btn-group .btn + .btn,\n",
       ".btn-group .btn + .btn-group,\n",
       ".btn-group .btn-group + .btn,\n",
       ".btn-group .btn-group + .btn-group {\n",
       " margin-left: -2px;\n",
       "}\n",
       ".btn-group > .btn:first-child:not(:last-child):not(.dropdown-toggle) {\n",
       " border-bottom-right-radius: 0;\n",
       " border-top-right-radius: 0;\n",
       " z-index: 2;\n",
       "}\n",
       ".dropdown-header {\n",
       " font-family: sans-serif !important;\n",
       " font-size: 13pt !important;\n",
       " color: #0b98c8 !important;\n",
       " border-bottom: none !important;\n",
       " padding: 0px !important;\n",
       " margin: 6px 6px 0px !important;\n",
       "}\n",
       "span#last-modified.btn.btn-xs.btn-default.sort-action,\n",
       "span#sort-name.btn.btn-xs.btn-default.sort-action,\n",
       "span#file-size.btn.btn-xs.btn-default.sort-action {\n",
       " font-family: sans-serif;\n",
       " font-size: 16px;\n",
       " background-color: transparent;\n",
       " background: transparent;\n",
       " border: none;\n",
       " color: #a2b0c7;\n",
       " padding-bottom: 0px;\n",
       " margin-bottom: 0px;\n",
       " vertical-align: sub;\n",
       "}\n",
       "span#last-modified.btn.btn-xs.btn-default.sort-action {\n",
       " margin-left: 19px;\n",
       "}\n",
       "button.close {\n",
       " border: 0px none;\n",
       " font-family: sans-serif;\n",
       " font-size: 20pt;\n",
       " font-weight: normal;\n",
       "}\n",
       ".dynamic-buttons {\n",
       " padding-top: 0px;\n",
       " display: inline-block;\n",
       "}\n",
       ".close {\n",
       " color: #dc6972;\n",
       " opacity: .5;\n",
       " text-shadow: none;\n",
       " font-weight: normal;\n",
       "}\n",
       ".close:hover {\n",
       " color: #dc6972;\n",
       " opacity: 1;\n",
       " font-weight: normal;\n",
       "}\n",
       "div.nbext-enable-btns .btn[disabled],\n",
       "div.nbext-enable-btns .btn[disabled]:hover,\n",
       ".btn-default.disabled,\n",
       ".btn-default[disabled],\n",
       ".btn-default.disabled:hover,\n",
       ".btn-default[disabled]:hover,\n",
       "fieldset[disabled] .btn-default:hover,\n",
       ".btn-default.disabled:focus,\n",
       ".btn-default[disabled]:focus,\n",
       "fieldset[disabled] .btn-default:focus,\n",
       ".btn-default.disabled.focus,\n",
       ".btn-default[disabled].focus,\n",
       "fieldset[disabled] .btn-default.focus {\n",
       " color: #92a2bd;\n",
       " background: #232c37;\n",
       " background-color: #232c37;\n",
       " border-color: #232c37;\n",
       " transition: 200ms ease;\n",
       "}\n",
       ".input-group-addon {\n",
       " padding: 2px 5px;\n",
       " font-size: 13pt;\n",
       " font-weight: normal;\n",
       " height: auto;\n",
       " color: #a2b0c7;\n",
       " text-align: center;\n",
       " background-color: transparent;\n",
       " border: 2px solid transparent !important;\n",
       " text-transform: capitalize;\n",
       "}\n",
       "a.btn.btn-default.input-group-addon:hover {\n",
       " background: transparent !important;\n",
       " background-color: transparent !important;\n",
       "}\n",
       ".btn-group > .btn + .dropdown-toggle {\n",
       " padding-left: 8px;\n",
       " padding-right: 8px;\n",
       " height: 100%;\n",
       "}\n",
       ".btn-group > .btn + .dropdown-toggle:hover {\n",
       " background: #293340 !important;\n",
       "}\n",
       ".input-group-btn {\n",
       " position: relative;\n",
       " font-size: inherit;\n",
       " white-space: nowrap;\n",
       " background: #252b35;\n",
       " background-color: #252b35;\n",
       " border: none;\n",
       "}\n",
       ".input-group-btn:hover {\n",
       " background: #21262f;\n",
       " background-color: #21262f;\n",
       " border: none;\n",
       "}\n",
       ".input-group-btn:first-child > .btn,\n",
       ".input-group-btn:first-child > .btn-group {\n",
       " background: #252b35;\n",
       " background-color: #252b35;\n",
       " border: none;\n",
       " margin-left: 2px;\n",
       " margin-right: -1px;\n",
       " font-size: inherit;\n",
       "}\n",
       ".input-group-btn:first-child > .btn:hover,\n",
       ".input-group-btn:first-child > .btn-group:hover {\n",
       " background: #293340;\n",
       " background-color: #293340;\n",
       " border: none;\n",
       " font-size: inherit;\n",
       " transition: 200ms ease;\n",
       "}\n",
       "div.modal .btn-group > .btn:first-child {\n",
       " background: #252b35;\n",
       " background-color: #252b35;\n",
       " border: 1px solid #232932;\n",
       " margin-top: 0px !important;\n",
       " margin-left: 0px;\n",
       " margin-bottom: 2px;\n",
       "}\n",
       "div.modal .btn-group > .btn:first-child:hover {\n",
       " background: #21262f;\n",
       " background-color: #21262f;\n",
       " border: 1px solid #21262f;\n",
       " transition: 200ms ease;\n",
       "}\n",
       "div.modal > button,\n",
       "div.modal-footer > button {\n",
       " background: #252b35;\n",
       " background-color: #252b35;\n",
       " border-color: #252b35;\n",
       "}\n",
       "div.modal > button:hover,\n",
       "div.modal-footer > button:hover {\n",
       " background: #21262f;\n",
       " background-color: #21262f;\n",
       " border-color: #21262f;\n",
       " transition: 200ms ease;\n",
       "}\n",
       ".modal-content {\n",
       " font-family: sans-serif;\n",
       " font-size: 12.0pt;\n",
       " position: relative;\n",
       " background: #252b35;\n",
       " background-color: #252b35;\n",
       " border: none;\n",
       " border-radius: 1px;\n",
       " background-clip: padding-box;\n",
       " outline: none;\n",
       "}\n",
       ".modal-header {\n",
       " font-family: sans-serif;\n",
       " font-size: 13pt;\n",
       " color: #a2b0c7;\n",
       " background: #252b35;\n",
       " background-color: #252b35;\n",
       " border-color: rgba(75,95,118,.30);\n",
       " padding: 12px;\n",
       " min-height: 16.4286px;\n",
       "}\n",
       ".modal-content h4 {\n",
       " font-family: sans-serif;\n",
       " font-size: 16pt;\n",
       " color: #a2b0c7;\n",
       " padding: 5px;\n",
       "}\n",
       ".modal-body {\n",
       " background-color: #2d3846;\n",
       " position: relative;\n",
       " padding: 15px;\n",
       "}\n",
       ".modal-footer {\n",
       " padding: 8px;\n",
       " text-align: right;\n",
       " background-color: #2d3846;\n",
       " border-top: none;\n",
       "}\n",
       ".alert-info {\n",
       " background-color: #323f50;\n",
       " border-color: rgba(75,95,118,.30);\n",
       " color: #a2b0c7;\n",
       "}\n",
       ".modal-header .close {\n",
       " margin-top: -5px;\n",
       " font-size: 25pt;\n",
       "}\n",
       ".modal-backdrop,\n",
       ".modal-backdrop.in {\n",
       " opacity: 0.85;\n",
       " background-color: notebook-bg;\n",
       "}\n",
       "div.panel,\n",
       "div.panel-default,\n",
       ".panel,\n",
       ".panel-default {\n",
       " font-family: sans-serif;\n",
       " font-size: 13pt;\n",
       " background-color: #2d3846;\n",
       " color: #a2b0c7;\n",
       " margin-bottom: 14px;\n",
       " border: 0;\n",
       " box-shadow: none;\n",
       "}\n",
       "div.panel > .panel-heading,\n",
       "div.panel-default > .panel-heading {\n",
       " font-size: 14pt;\n",
       " color: #a2b0c7;\n",
       " background: #252b35;\n",
       " background-color: #252b35;\n",
       " border: 0;\n",
       "}\n",
       ".modal .modal-dialog {\n",
       " min-width: 950px;\n",
       " margin: 50px auto;\n",
       "}\n",
       "div.container-fluid {\n",
       " margin-right: auto;\n",
       " margin-left: auto;\n",
       " padding-left: 0px;\n",
       " padding-right: 5px;\n",
       "}\n",
       "div.form-control,\n",
       ".form-control {\n",
       " font-family: sans-serif;\n",
       " font-size: initial;\n",
       " color: #a2b0c7;\n",
       " background-color: #252b35;\n",
       " border: 1px solid #252e3a !important;\n",
       " margin-left: 2px;\n",
       " box-shadow: none;\n",
       " transition: border-color 0.15s ease-in-out 0s, box-shadow 0.15s ease-in-out 0s;\n",
       "}\n",
       ".form-control-static {\n",
       " min-height: inherit;\n",
       " height: inherit;\n",
       "}\n",
       ".form-group.list-group-item {\n",
       " color: #a2b0c7;\n",
       " background-color: #2d3846;\n",
       " border-color: rgba(75,95,118,.30);\n",
       " margin-bottom: 0px;\n",
       "}\n",
       ".form-group .input-group {\n",
       " float: left;\n",
       "}\n",
       "input,\n",
       "button,\n",
       "select,\n",
       "textarea {\n",
       " background-color: #252b35;\n",
       " font-weight: normal;\n",
       " border: 1px solid rgba(75,95,118,.30);\n",
       "}\n",
       "select.form-control.select-xs {\n",
       " height: 33px;\n",
       " font-size: 13pt;\n",
       "}\n",
       ".toolbar select,\n",
       ".toolbar label {\n",
       " width: auto;\n",
       " vertical-align: middle;\n",
       " margin-right: 0px;\n",
       " margin-bottom: 0px;\n",
       " display: inline;\n",
       " font-size: 92%;\n",
       " margin-left: 10px;\n",
       " padding: 0px;\n",
       " background: #252e3a !important;\n",
       " background-color: #252e3a !important;\n",
       " border: 2px solid #212934 !important;\n",
       "}\n",
       ".form-control:focus {\n",
       " border-color: #0b98c8;\n",
       " outline: 2px solid rgba(0,156,209,.5);\n",
       " -webkit-box-shadow: none;\n",
       "}\n",
       "::-webkit-input-placeholder {\n",
       " color: #546386;\n",
       "}\n",
       "::-moz-placeholder {\n",
       " color: #546386;\n",
       "}\n",
       ":-ms-input-placeholder {\n",
       " color: #546386;\n",
       "}\n",
       ":-moz-placeholder {\n",
       " color: #546386;\n",
       "}\n",
       "[dir=\"ltr\"] #find-and-replace .input-group-btn + .form-control {\n",
       " border: 2px solid rgba(75,95,118,.30) !important;\n",
       "}\n",
       "[dir=\"ltr\"] #find-and-replace .input-group-btn + .form-control:focus {\n",
       " border-color: #0b98c8;\n",
       " outline: 2px solid rgba(0,156,209,.5);\n",
       " -webkit-box-shadow: none;\n",
       " box-shadow: none;\n",
       "}\n",
       "div.output.output_scroll {\n",
       " box-shadow: none;\n",
       "}\n",
       "::-webkit-scrollbar {\n",
       " width: 11px;\n",
       " max-height: 9px;\n",
       " background-color: #292d3a;\n",
       " border-radius: 3px;\n",
       " border: none;\n",
       "}\n",
       "::-webkit-scrollbar-track {\n",
       " background: #292d3a;\n",
       " border: none;\n",
       " width: 11px;\n",
       " max-height: 9px;\n",
       "}\n",
       "::-webkit-scrollbar-thumb {\n",
       " border-radius: 2px;\n",
       " border: none;\n",
       " background: #3f4555;\n",
       " background-clip: content-box;\n",
       " width: 11px;\n",
       "}\n",
       "HTML,\n",
       "body,\n",
       "div,\n",
       "dl,\n",
       "dt,\n",
       "dd,\n",
       "ul,\n",
       "ol,\n",
       "li,\n",
       "h1,\n",
       "h2,\n",
       "h3,\n",
       "h4,\n",
       "h5,\n",
       "h6,\n",
       "pre,\n",
       "code,\n",
       "form,\n",
       "fieldset,\n",
       "legend,\n",
       "input,\n",
       "button,\n",
       "textarea,\n",
       "p,\n",
       "blockquote,\n",
       "th,\n",
       "td,\n",
       "span,\n",
       "a {\n",
       " text-rendering: geometricPrecision;\n",
       " -webkit-font-smoothing: subpixel-antialiased;\n",
       " font-weight: 400;\n",
       "}\n",
       "div.input_area {\n",
       " background-color: #293340;\n",
       " background: #293340;\n",
       " padding-right: 1.2em;\n",
       " border: 0px;\n",
       " border-radius: 0px;\n",
       " border-top-right-radius: 4px;\n",
       " border-bottom-right-radius: 4px;\n",
       "}\n",
       "div.cell {\n",
       " padding: 0px;\n",
       " background: #293340;\n",
       " background-color: #293340;\n",
       " border: medium solid #1a2028;\n",
       " border-radius: 4px;\n",
       " top: 0;\n",
       "}\n",
       "div.cell.selected {\n",
       " background: #293340;\n",
       " background-color: #293340;\n",
       " border: medium solid #1a2028;\n",
       " padding: 0px;\n",
       " border-radius: 5px;\n",
       "}\n",
       ".edit_mode div.cell.selected {\n",
       " padding: 0px;\n",
       " background: #293340;\n",
       " background-color: #293340;\n",
       " border: medium solid #1a2028;\n",
       " border-radius: 5px;\n",
       "}\n",
       "div.cell.edit_mode {\n",
       " padding: 0px;\n",
       " background: #293340;\n",
       " background-color: #293340;\n",
       "}\n",
       "div.CodeMirror-sizer {\n",
       " margin-left: 0px;\n",
       " margin-bottom: -21px;\n",
       " border-right-width: 16px;\n",
       " min-height: 37px;\n",
       " padding-right: 0px;\n",
       " padding-bottom: 0px;\n",
       " margin-top: 0px;\n",
       "}\n",
       "div.cell.selected:before,\n",
       ".edit_mode div.cell.selected:before,\n",
       "div.cell.selected:before,\n",
       "div.cell.selected.jupyter-soft-selected:before {\n",
       " background: #293340 !important;\n",
       " border: none;\n",
       " border-radius: 3px;\n",
       " position: absolute;\n",
       " display: block;\n",
       " top: 0px;\n",
       " left: 0px;\n",
       " width: 0px;\n",
       " height: 100%;\n",
       "}\n",
       "div.cell.text_cell.selected::before,\n",
       ".edit_mode div.cell.text_cell.selected:before,\n",
       "div.cell.text_cell.selected:before,\n",
       "div.cell.text_cell.selected.jupyter-soft-selected:before {\n",
       " background: #293340 !important;\n",
       " background-color: #293340 !important;\n",
       " border-color: #0b98c8 !important;\n",
       "}\n",
       "div.cell.code_cell .input {\n",
       " border-left: 5px solid #293340 !important;\n",
       " border-radius: 3px;\n",
       " border-bottom-left-radius: 3px;\n",
       " border-top-left-radius: 3px;\n",
       "}\n",
       "div.cell.code_cell.selected .input {\n",
       " border-left: 5px solid #008ebf !important;\n",
       " border-radius: 3px;\n",
       "}\n",
       ".edit_mode div.cell.code_cell.selected .input {\n",
       " border-left: 5px solid #005573 !important;\n",
       " border-radius: 3px;\n",
       "}\n",
       ".edit_mode div.cell.selected:before {\n",
       " height: 100%;\n",
       " border-left: 5px solid #005573 !important;\n",
       " border-radius: 3px;\n",
       "}\n",
       "div.cell.jupyter-soft-selected,\n",
       "div.cell.selected.jupyter-soft-selected {\n",
       " border-left-color: #005573 !important;\n",
       " border-left-width: 0px !important;\n",
       " padding-left: 7px !important;\n",
       " border-right-color: #005573 !important;\n",
       " border-right-width: 0px !important;\n",
       " background: #005573 !important;\n",
       " border-radius: 6px !important;\n",
       "}\n",
       "div.cell.selected.jupyter-soft-selected .input {\n",
       " border-left: 5px solid #293340 !important;\n",
       "}\n",
       "div.cell.selected.jupyter-soft-selected {\n",
       " border-left-color: #008ebf;\n",
       " border-color: #1a2028;\n",
       " padding-left: 7px;\n",
       " border-radius: 6px;\n",
       "}\n",
       "div.cell.code_cell.selected .input {\n",
       " border-left: none;\n",
       " border-radius: 3px;\n",
       "}\n",
       "div.cell.selected.jupyter-soft-selected .prompt,\n",
       "div.cell.text_cell.selected.jupyter-soft-selected .prompt {\n",
       " top: 0;\n",
       " border-left: #293340 !important;\n",
       " border-radius: 2px;\n",
       "}\n",
       "div.cell.text_cell.selected.jupyter-soft-selected .input_prompt {\n",
       " border-left: none !important;\n",
       "}\n",
       "div.cell.text_cell.jupyter-soft-selected,\n",
       "div.cell.text_cell.selected.jupyter-soft-selected {\n",
       " border-left-color: #005573 !important;\n",
       " border-left-width: 0px !important;\n",
       " padding-left: 26px !important;\n",
       " border-right-color: #005573 !important;\n",
       " border-right-width: 0px !important;\n",
       " background: #005573 !important;\n",
       " border-radius: 5px !important;\n",
       "}\n",
       "div.cell.jupyter-soft-selected .input,\n",
       "div.cell.selected.jupyter-soft-selected .input {\n",
       " border-left-color: #005573 !important;\n",
       "}\n",
       "div.prompt,\n",
       ".prompt {\n",
       " font-family: monospace, monospace;\n",
       " font-size: 9pt !important;\n",
       " font-weight: normal;\n",
       " color: #546386;\n",
       " line-height: 170%;\n",
       " padding: 0px;\n",
       " padding-top: 4px;\n",
       " padding-left: 0px;\n",
       " padding-right: 1px;\n",
       " text-align: right !important;\n",
       " min-width: 11.5ex !important;\n",
       " width: 11.5ex !important;\n",
       "}\n",
       "div.prompt.input_prompt {\n",
       " font-size: 9pt !important;\n",
       " background-color: #293340;\n",
       " border-top: 0px;\n",
       " border-top-right-radius: 0px;\n",
       " border-bottom-left-radius: 0px;\n",
       " border-bottom-right-radius: 0px;\n",
       " padding-right: 3px;\n",
       " min-width: 11.5ex;\n",
       " width: 11.5ex !important;\n",
       "}\n",
       "div.cell.code_cell .input_prompt {\n",
       " border-right: 2px solid rgba(0,156,209,.5);\n",
       "}\n",
       "div.cell.selected .prompt {\n",
       " top: 0;\n",
       "}\n",
       ".edit_mode div.cell.selected .prompt {\n",
       " top: 0;\n",
       "}\n",
       ".edit_mode div.cell.selected .prompt {\n",
       " top: 0;\n",
       "}\n",
       ".run_this_cell {\n",
       " visibility: hidden;\n",
       " color: transparent;\n",
       " padding-top: 0px;\n",
       " padding-bottom: 0px;\n",
       " padding-left: 3px;\n",
       " padding-right: 12px;\n",
       " width: 1.5ex;\n",
       " width: 0ex;\n",
       " background: transparent;\n",
       " background-color: transparent;\n",
       "}\n",
       "div.code_cell:hover div.input .run_this_cell {\n",
       " visibility: visible;\n",
       "}\n",
       "div.cell.code_cell.rendered.selected .run_this_cell:hover {\n",
       " background-color: #212934;\n",
       " background: #212934;\n",
       " color: #008ebf !important;\n",
       "}\n",
       "div.cell.code_cell.rendered.unselected .run_this_cell:hover {\n",
       " background-color: #212934;\n",
       " background: #212934;\n",
       " color: #008ebf !important;\n",
       "}\n",
       "i.fa-step-forward.fa {\n",
       " display: inline-block;\n",
       " font: normal normal normal 9px \"FontAwesome\";\n",
       "}\n",
       ".fa-step-forward:before {\n",
       " content: \"\\f04b\";\n",
       "}\n",
       "div.cell.selected.jupyter-soft-selected .run_this_cell,\n",
       "div.cell.selected.jupyter-soft-selected .run_this_cell:hover,\n",
       "div.cell.unselected.jupyter-soft-selected .run_this_cell:hover,\n",
       "div.cell.code_cell.rendered.selected.jupyter-soft-selected .run_this_cell:hover,\n",
       "div.cell.code_cell.rendered.unselected.jupyter-soft-selected .run_this_cell:hover {\n",
       " background-color: #005573 !important;\n",
       " background: #005573 !important;\n",
       " color: #005573 !important;\n",
       "}\n",
       "div.output_wrapper {\n",
       " background-color: #323a48;\n",
       " border: 0px;\n",
       " left: 0px;\n",
       " margin-bottom: 0em;\n",
       " margin-top: 0em;\n",
       " border-top-right-radius: 0px;\n",
       " border-top-left-radius: 0px;\n",
       "}\n",
       "div.output_subarea.output_text.output_stream.output_stdout,\n",
       "div.output_subarea.output_text {\n",
       " font-family: monospace, monospace;\n",
       " font-size: 8.5pt !important;\n",
       " line-height: 150% !important;\n",
       " background-color: #323a48;\n",
       " color: #b4bcde;\n",
       " border-top-right-radius: 0px;\n",
       " border-top-left-radius: 0px;\n",
       " margin-left: 11.5px;\n",
       "}\n",
       "div.output_area pre {\n",
       " font-family: monospace, monospace;\n",
       " font-size: 8.5pt !important;\n",
       " line-height: 151% !important;\n",
       " color: #b4bcde;\n",
       " border-top-right-radius: 0px;\n",
       " border-top-left-radius: 0px;\n",
       "}\n",
       "div.output_area {\n",
       " display: -webkit-box;\n",
       "}\n",
       "div.output_html {\n",
       " font-family: monospace, monospace;\n",
       " font-size: 8.5pt;\n",
       " color: #e2e5f2;\n",
       " background-color: #323a48;\n",
       " background: #323a48;\n",
       "}\n",
       "div.output_subarea {\n",
       " overflow-x: auto;\n",
       " padding: 1.2em !important;\n",
       " -webkit-box-flex: 1;\n",
       " -moz-box-flex: 1;\n",
       " box-flex: 1;\n",
       " flex: 1;\n",
       "}\n",
       "div.btn.btn-default.output_collapsed {\n",
       " background: #1b1f26;\n",
       " background-color: #1b1f26;\n",
       " border-color: #1b1f26;\n",
       "}\n",
       "div.btn.btn-default.output_collapsed:hover {\n",
       " background: #161a20;\n",
       " background-color: #161a20;\n",
       " border-color: #161a20;\n",
       "}\n",
       "div.prompt.output_prompt {\n",
       " font-family: monospace, monospace;\n",
       " font-weight: bold !important;\n",
       " background-color: #323a48;\n",
       " color: transparent;\n",
       " border-bottom-left-radius: 4px;\n",
       " border-top-right-radius: 0px;\n",
       " border-top-left-radius: 0px;\n",
       " border-bottom-right-radius: 0px;\n",
       " min-width: 11.5ex !important;\n",
       " width: 11.5ex !important;\n",
       " border-right: 2px solid transparent;\n",
       "}\n",
       "div.out_prompt_overlay.prompt {\n",
       " font-family: monospace, monospace;\n",
       " font-weight: bold !important;\n",
       " background-color: #323a48;\n",
       " border-bottom-left-radius: 2px;\n",
       " border-top-right-radius: 0px;\n",
       " border-top-left-radius: 0px;\n",
       " border-bottom-right-radius: 0px;\n",
       " min-width: 11.5ex !important;\n",
       " width: 11.5ex !important;\n",
       " border-right: 2px solid transparent;\n",
       " color: transparent;\n",
       "}\n",
       "div.out_prompt_overlay.prompt:hover {\n",
       " background-color: #374556;\n",
       " box-shadow: none !important;\n",
       " border: none;\n",
       " border-bottom-left-radius: 2px;\n",
       " -webkit-border-: 2px;\n",
       " -moz-border-radius: 2px;\n",
       " border-top-right-radius: 0px;\n",
       " border-top-left-radius: 0px;\n",
       " min-width: 11.5ex !important;\n",
       " width: 11.5ex !important;\n",
       " border-right: 2px solid #374556 !important;\n",
       "}\n",
       "div.cell.code_cell .output_prompt {\n",
       " border-right: 2px solid transparent;\n",
       " color: transparent;\n",
       "}\n",
       "div.cell.selected .output_prompt,\n",
       "div.cell.selected .out_prompt_overlay.prompt {\n",
       " border-left: 5px solid #005573;\n",
       " border-right: 2px solid #323a48;\n",
       " border-radius: 0px !important;\n",
       "}\n",
       ".edit_mode div.cell.selected .output_prompt,\n",
       ".edit_mode div.cell.selected .out_prompt_overlay.prompt {\n",
       " border-left: 5px solid #005573;\n",
       " border-right: 2px solid #323a48;\n",
       " border-radius: 0px !important;\n",
       "}\n",
       "div.text_cell,\n",
       "div.text_cell_render pre,\n",
       "div.text_cell_render {\n",
       " font-family: sans-serif;\n",
       " font-size: 13pt;\n",
       " line-height: 130% !important;\n",
       " color: #b0bdd7;\n",
       " background: #293340;\n",
       " background-color: #293340;\n",
       " border-radius: 0px;\n",
       "}\n",
       "div .text_cell_render {\n",
       " padding: 0.4em 0.4em 0.4em 0.4em;\n",
       "}\n",
       "div.cell.text_cell .CodeMirror-lines {\n",
       " padding-top: .7em !important;\n",
       " padding-bottom: .4em !important;\n",
       " padding-left: .5em !important;\n",
       " padding-right: .5em !important;\n",
       " margin-top: .4em;\n",
       " margin-bottom: .3em;\n",
       "}\n",
       "div.cell.text_cell.unrendered div.input_area,\n",
       "div.cell.text_cell.rendered div.input_area {\n",
       " background-color: #293340;\n",
       " background: #293340;\n",
       " border: 0px;\n",
       " border-radius: 2px;\n",
       "}\n",
       "div.cell.text_cell .CodeMirror,\n",
       "div.cell.text_cell .CodeMirror pre {\n",
       " line-height: 170% !important;\n",
       "}\n",
       "div.cell.text_cell.rendered.selected {\n",
       " font-family: sans-serif;\n",
       " line-height: 170% !important;\n",
       " background: #293340;\n",
       " background-color: #293340;\n",
       " border-radius: 0px;\n",
       "}\n",
       "div.cell.text_cell.unrendered.selected {\n",
       " font-family: sans-serif;\n",
       " line-height: 170% !important;\n",
       " background: #293340;\n",
       " background-color: #293340;\n",
       " border-radius: 0px;\n",
       "}\n",
       "div.cell.text_cell.selected {\n",
       " font-family: sans-serif;\n",
       " line-height: 170% !important;\n",
       " background: #293340;\n",
       " background-color: #293340;\n",
       " border-radius: 0px;\n",
       "}\n",
       ".edit_mode div.cell.text_cell.selected {\n",
       " font-family: sans-serif;\n",
       " line-height: 170% !important;\n",
       " background: #293340;\n",
       " background-color: #293340;\n",
       " border-radius: 0px;\n",
       "}\n",
       "div.text_cell.unrendered,\n",
       "div.text_cell.unrendered.selected,\n",
       "div.edit_mode div.text_cell.unrendered {\n",
       " font-family: sans-serif;\n",
       " line-height: 170% !important;\n",
       " background: #293340;\n",
       " background-color: #293340;\n",
       " border-radius: 0px;\n",
       "}\n",
       "div.cell.text_cell .prompt {\n",
       " border-right: 0;\n",
       " min-width: 11.5ex !important;\n",
       " width: 11.5ex !important;\n",
       "}\n",
       "div.cell.text_cell.rendered .prompt {\n",
       " font-family: monospace, monospace;\n",
       " font-size: 9.5pt !important;\n",
       " font-weight: normal;\n",
       " color: #546386 !important;\n",
       " text-align: right !important;\n",
       " min-width: 14.5ex !important;\n",
       " width: 14.5ex !important;\n",
       " background-color: #293340;\n",
       " border-right: 2px solid rgba(0,156,209,.5);\n",
       " border-left: 4px solid #293340;\n",
       "}\n",
       "div.cell.text_cell.unrendered .prompt {\n",
       " font-family: monospace, monospace;\n",
       " font-size: 9.5pt !important;\n",
       " font-weight: normal;\n",
       " color: #546386 !important;\n",
       " text-align: right !important;\n",
       " min-width: 14.5ex !important;\n",
       " width: 14.5ex !important;\n",
       " border-right: 2px solid rgba(0,156,209,.5);\n",
       " border-left: 4px solid #293340;\n",
       " background-color: #293340;\n",
       "}\n",
       "div.cell.text_cell.rendered .prompt {\n",
       " border-right: 2px solid rgba(0,156,209,.5);\n",
       "}\n",
       "div.cell.text_cell.rendered.selected .prompt {\n",
       " top: 0;\n",
       " border-left: 4px solid #0b98c8;\n",
       " border-right: 2px solid rgba(0,156,209,.5);\n",
       "}\n",
       "div.text_cell.unrendered.selected .prompt,\n",
       "div.text_cell.rendered.selected .prompt {\n",
       " top: 0;\n",
       " background: #293340;\n",
       " border-left: 4px solid #005573;\n",
       " border-right: 2px solid rgba(0,156,209,.5);\n",
       "}\n",
       "div.rendered_html code {\n",
       " font-family: monospace, monospace;\n",
       " font-size: 11pt;\n",
       " padding-top: 3px;\n",
       " padding-left: 2px;\n",
       " color: #cdd2e9;\n",
       " background: #252e3a;\n",
       " background-color: #252e3a;\n",
       "}\n",
       "pre,\n",
       "code,\n",
       "kbd,\n",
       "samp {\n",
       " white-space: pre-wrap;\n",
       "}\n",
       ".well code,\n",
       "code {\n",
       " font-family: monospace, monospace;\n",
       " font-size: 11pt !important;\n",
       " line-height: 170% !important;\n",
       " color: #b0bdd7;\n",
       " background: #252e3a;\n",
       " background-color: #252e3a;\n",
       " border-color: #252e3a;\n",
       "}\n",
       "kbd {\n",
       " padding: 1px;\n",
       " font-size: 11pt;\n",
       " font-weight: 800;\n",
       " color: #cdd2e9;\n",
       " background-color: transparent !important;\n",
       " border: 0;\n",
       " box-shadow: none;\n",
       "}\n",
       "pre {\n",
       " display: block;\n",
       " padding: 8.5px;\n",
       " margin: 0 0 9px;\n",
       " font-size: 12.0pt;\n",
       " line-height: 1.42857143;\n",
       " color: #cdd2e9;\n",
       " background-color: #252e3a;\n",
       " border: 1px solid #252e3a;\n",
       " border-radius: 2px;\n",
       "}\n",
       "div.rendered_html {\n",
       " color: #b0bdd7;\n",
       "}\n",
       ".rendered_html * + ul {\n",
       " margin-top: .4em;\n",
       " margin-bottom: .3em;\n",
       "}\n",
       ".rendered_html * + p {\n",
       " margin-top: .5em;\n",
       " margin-bottom: .5em;\n",
       "}\n",
       "div.rendered_html pre {\n",
       " font-family: monospace, monospace;\n",
       " font-size: 11pt !important;\n",
       " line-height: 170% !important;\n",
       " color: #b0bdd7 !important;\n",
       " background: #252e3a;\n",
       " background-color: #252e3a;\n",
       " max-width: 80%;\n",
       " border-radius: 0px;\n",
       " border-left: 3px solid #252e3a;\n",
       " max-width: 80%;\n",
       " border-radius: 0px;\n",
       " padding-left: 5px;\n",
       " margin-left: 6px;\n",
       "}\n",
       "div.text_cell_render pre,\n",
       "div.text_cell_render code {\n",
       " font-family: monospace, monospace;\n",
       " font-size: 11pt !important;\n",
       " line-height: 170% !important;\n",
       " color: #b0bdd7;\n",
       " background: #1a2028;\n",
       " background-color: #1a2028;\n",
       " max-width: 80%;\n",
       " border-radius: 0px;\n",
       " border-left: none;\n",
       "}\n",
       "div.text_cell_render pre {\n",
       " border-left: 3px solid rgba(0,156,209,.5) !important;\n",
       " max-width: 80%;\n",
       " border-radius: 0px;\n",
       " padding-left: 5px;\n",
       " margin-left: 6px;\n",
       "}\n",
       "div.text_cell_render h1,\n",
       "div.rendered_html h1,\n",
       "div.text_cell_render h2,\n",
       "div.rendered_html h2,\n",
       "div.text_cell_render h3,\n",
       "div.rendered_html h3,\n",
       "div.text_cell_render h4,\n",
       "div.rendered_html h4,\n",
       "div.text_cell_render h5,\n",
       "div.rendered_html h5 {\n",
       " font-family: sans-serif;\n",
       " margin: 0.4em .2em .3em .2em !important;\n",
       "}\n",
       ".rendered_html h1:first-child,\n",
       ".rendered_html h2:first-child,\n",
       ".rendered_html h3:first-child,\n",
       ".rendered_html h4:first-child,\n",
       ".rendered_html h5:first-child,\n",
       ".rendered_html h6:first-child {\n",
       " margin-top: 0.2em !important;\n",
       " margin-bottom: 0.2em !important;\n",
       "}\n",
       ".rendered_html h1,\n",
       ".text_cell_render h1 {\n",
       " color: #0b98c8 !important;\n",
       " font-size: 200%;\n",
       " text-align: left;\n",
       " font-style: normal;\n",
       " font-weight: normal;\n",
       "}\n",
       ".rendered_html h2,\n",
       ".text_cell_render h2 {\n",
       " color: #0b98c8 !important;\n",
       " font-size: 170%;\n",
       " font-style: normal;\n",
       " font-weight: normal;\n",
       "}\n",
       ".rendered_html h3,\n",
       ".text_cell_render h3 {\n",
       " color: #0b98c8 !important;\n",
       " font-size: 140%;\n",
       " font-style: normal;\n",
       " font-weight: normal;\n",
       "}\n",
       ".rendered_html h4,\n",
       ".text_cell_render h4 {\n",
       " color: #0b98c8 !important;\n",
       " font-size: 110%;\n",
       " font-style: normal;\n",
       " font-weight: normal;\n",
       "}\n",
       ".rendered_html h5,\n",
       ".text_cell_render h5 {\n",
       " color: #0b98c8 !important;\n",
       " font-size: 100%;\n",
       " font-style: normal;\n",
       " font-weight: normal;\n",
       "}\n",
       "hr {\n",
       " margin-top: 8px;\n",
       " margin-bottom: 10px;\n",
       " border: 0;\n",
       " border-top: 1px solid #0b98c8;\n",
       "}\n",
       ".rendered_html hr {\n",
       " color: #0b98c8;\n",
       " background-color: #0b98c8;\n",
       " margin-right: 2em;\n",
       "}\n",
       "#complete > select > option:hover {\n",
       " background: #323b48;\n",
       " background-color: #323b48;\n",
       "}\n",
       "div#_vivaldi-spatnav-focus-indicator._vivaldi-spatnav-focus-indicator {\n",
       " position: absolute;\n",
       " z-index: 9999999999;\n",
       " top: 0px;\n",
       " left: 0px;\n",
       " box-shadow: none;\n",
       " pointer-events: none;\n",
       " border-radius: 2px;\n",
       "}\n",
       ".rendered_html tr,\n",
       ".rendered_html th,\n",
       ".rendered_html td {\n",
       " text-align: left;\n",
       " vertical-align: middle;\n",
       " padding: 0.42em 0.47em;\n",
       " line-height: normal;\n",
       " white-space: normal;\n",
       " max-width: none;\n",
       " border: none;\n",
       "}\n",
       ".rendered_html td {\n",
       " font-family: sans-serif !important;\n",
       " font-size: 9.3pt;\n",
       "}\n",
       ".rendered_html table {\n",
       " font-family: sans-serif !important;\n",
       " margin-left: 8px;\n",
       " margin-right: auto;\n",
       " border: none;\n",
       " border-collapse: collapse;\n",
       " border-spacing: 0;\n",
       " color: #e2e5f2;\n",
       " table-layout: fixed;\n",
       "}\n",
       ".rendered_html thead {\n",
       " font-family: sans-serif !important;\n",
       " font-size: 10.3pt !important;\n",
       " background: #27313d;\n",
       " color: #bbc2e1;\n",
       " border-bottom: 1px solid #27313d;\n",
       " vertical-align: bottom;\n",
       "}\n",
       ".rendered_html tbody tr:nth-child(odd) {\n",
       " background: #3f495a;\n",
       "}\n",
       ".rendered_html tbody tr {\n",
       " background: #394251;\n",
       "}\n",
       ".rendered_html tbody tr:hover:nth-child(odd) {\n",
       " background: #3d4757;\n",
       "}\n",
       ".rendered_html tbody tr:hover {\n",
       " background: #373f4e;\n",
       "}\n",
       ".rendered_html * + table {\n",
       " margin-top: .05em;\n",
       "}\n",
       "div.widget-area {\n",
       " background-color: #323a48;\n",
       " background: #323a48;\n",
       " color: #b4bcde;\n",
       "}\n",
       "div.widget-area a {\n",
       " font-family: sans-serif;\n",
       " font-size: 12.0pt;\n",
       " font-weight: normal;\n",
       " font-style: normal;\n",
       " color: #a2b0c7;\n",
       " text-shadow: none !important;\n",
       "}\n",
       "div.widget-area a:hover,\n",
       "div.widget-area a:focus {\n",
       " font-family: sans-serif;\n",
       " font-size: 12.0pt;\n",
       " font-weight: normal;\n",
       " font-style: normal;\n",
       " color: #dbe1ea;\n",
       " background: rgba(75,95,118,.30);\n",
       " background-color: rgba(75,95,118,.30);\n",
       " border-color: transparent;\n",
       " background-image: none;\n",
       " text-shadow: none !important;\n",
       "}\n",
       "div.widget_item.btn-group > button.btn.btn-default.widget-combo-btn,\n",
       "div.widget_item.btn-group > button.btn.btn-default.widget-combo-btn:hover {\n",
       " background: #232932;\n",
       " background-color: #232932;\n",
       " border: 2px solid #232932 !important;\n",
       " font-size: inherit;\n",
       " z-index: 0;\n",
       "}\n",
       "div.jupyter-widgets.widget-hprogress.widget-hbox {\n",
       " display: inline-table !important;\n",
       " width: 38% !important;\n",
       " margin-left: 10px;\n",
       "}\n",
       "div.jupyter-widgets.widget-hprogress.widget-hbox .widget-label,\n",
       "div.widget-hbox .widget-label,\n",
       ".widget-hbox .widget-label,\n",
       ".widget-inline-hbox .widget-label,\n",
       "div.widget-label {\n",
       " text-align: -webkit-auto !important;\n",
       " margin-left: 15px !important;\n",
       " max-width: 240px !important;\n",
       " min-width: 100px !important;\n",
       " vertical-align: text-top !important;\n",
       " color: #b4bcde !important;\n",
       " font-size: 14px !important;\n",
       "}\n",
       ".widget-hprogress .progress {\n",
       " flex-grow: 1;\n",
       " height: 20px;\n",
       " margin-top: auto;\n",
       " margin-left: 12px;\n",
       " margin-bottom: auto;\n",
       " width: 300px;\n",
       "}\n",
       ".progress {\n",
       " overflow: hidden;\n",
       " height: 22px;\n",
       " margin-bottom: 10px;\n",
       " padding-left: 10px;\n",
       " background-color: #4a5569 !important;\n",
       " border-radius: 2px;\n",
       " -webkit-box-shadow: none;\n",
       " box-shadow: none;\n",
       " z-index: 10;\n",
       "}\n",
       ".progress-bar-danger {\n",
       " background-color: #e74c3c !important;\n",
       "}\n",
       ".progress-bar-info {\n",
       " background-color: #3498db !important;\n",
       "}\n",
       ".progress-bar-warning {\n",
       " background-color: #ff914d !important;\n",
       "}\n",
       ".progress-bar-success {\n",
       " background-color: #83a83b !important;\n",
       "}\n",
       ".widget-select select {\n",
       " margin-left: 12px;\n",
       "}\n",
       ".rendered_html :link {\n",
       " font-family: sans-serif;\n",
       " font-size: 100%;\n",
       " color: #0b98c8;\n",
       " text-decoration: underline;\n",
       "}\n",
       ".rendered_html :visited,\n",
       ".rendered_html :visited:active,\n",
       ".rendered_html :visited:focus {\n",
       " color: #12a3d6;\n",
       "}\n",
       ".rendered_html :visited:hover,\n",
       ".rendered_html :link:hover {\n",
       " font-family: sans-serif;\n",
       " font-size: 100%;\n",
       " color: #0080aa;\n",
       "}\n",
       "div.cell.text_cell a.anchor-link:link {\n",
       " font-size: inherit;\n",
       " text-decoration: none;\n",
       " padding: 0px 20px;\n",
       " visibility: none;\n",
       " color: rgba(0,0,0,.32);\n",
       "}\n",
       "div.cell.text_cell a.anchor-link:link:hover {\n",
       " font-size: inherit;\n",
       " color: #0dc1ff;\n",
       "}\n",
       ".navbar-text {\n",
       " margin-top: 4px;\n",
       " margin-bottom: 0px;\n",
       "}\n",
       "#clusters > a {\n",
       " color: #51c0ef;\n",
       " text-decoration: underline;\n",
       " cursor: auto;\n",
       "}\n",
       "#clusters > a:hover {\n",
       " color: #4c8be2;\n",
       " text-decoration: underline;\n",
       " cursor: auto;\n",
       "}\n",
       "#nbextensions-configurator-container > div.row.container-fluid.nbext-selector > h3 {\n",
       " font-size: 17px;\n",
       " margin-top: 5px;\n",
       " margin-bottom: 8px;\n",
       " height: 24px;\n",
       " padding: 4px 0 4px 0;\n",
       "}\n",
       "div#nbextensions-configurator-container.container,\n",
       "#nbextensions-configurator-container.container {\n",
       " width: 100%;\n",
       " margin-right: auto;\n",
       " margin-left: auto;\n",
       "}\n",
       "div.nbext-selector > nav > .nav > li > a {\n",
       " font-family: sans-serif;\n",
       " font-size: 10.5pt;\n",
       " padding: 2px 5px;\n",
       "}\n",
       "div.nbext-selector > nav > .nav > li > a:hover {\n",
       " background: transparent;\n",
       "}\n",
       "div.nbext-selector > nav > .nav > li:hover {\n",
       " background-color: rgba(75,95,118,.30) !important;\n",
       " background: rgba(75,95,118,.30) !important;\n",
       "}\n",
       "div.nbext-selector > nav > .nav > li.active:hover {\n",
       " background: transparent !important;\n",
       " background-color: transparent !important;\n",
       "}\n",
       ".nav-pills > li.active > a,\n",
       ".nav-pills > li.active > a:active,\n",
       ".nav-pills > li.active > a:hover,\n",
       ".nav-pills > li.active > a:focus {\n",
       " color: #fefefe;\n",
       " background-color: rgba(75,95,118,.30) !important;\n",
       " background: rgba(75,95,118,.30) !important;\n",
       " -webkit-backface-visibility: hidden;\n",
       " -webkit-font-smoothing: subpixel-antialiased !important;\n",
       "}\n",
       "div.nbext-readme > .nbext-readme-contents > .rendered_html {\n",
       " font-family: sans-serif;\n",
       " font-size: 11.5pt;\n",
       " line-height: 145%;\n",
       " padding: 1em 1em;\n",
       " color: #b0bdd7;\n",
       " background-color: #293340;\n",
       " -webkit-box-shadow: none;\n",
       " -moz-box-shadow: none;\n",
       " box-shadow: none;\n",
       "}\n",
       ".nbext-icon,\n",
       ".nbext-desc,\n",
       ".nbext-compat-div,\n",
       ".nbext-enable-btns,\n",
       ".nbext-params {\n",
       " margin-bottom: 8px;\n",
       " font-size: 11.5pt;\n",
       "}\n",
       "div.nbext-readme > .nbext-readme-contents {\n",
       " padding: 0;\n",
       " overflow-y: hidden;\n",
       "}\n",
       "div.nbext-readme > .nbext-readme-contents:not(:empty) {\n",
       " margin-top: 0.5em;\n",
       " margin-bottom: 2em;\n",
       " border: none;\n",
       " border-top-color: rgba(0,156,209,.3);\n",
       "}\n",
       ".nbext-showhide-incompat {\n",
       " padding-bottom: 0.5em;\n",
       " color: #92a2bd;\n",
       " font-size: 10.5pt;\n",
       "}\n",
       ".nbext-filter-menu.dropdown-menu > li > a:hover,\n",
       ".nbext-filter-menu.dropdown-menu > li > a:focus,\n",
       ".nbext-filter-menu.dropdown-menu > li > a.ui-state-focus {\n",
       " color: #dbe1ea !important;\n",
       " background-color: #323b48 !important;\n",
       " background: #323b48 !important;\n",
       " border-color: #323b48 !important;\n",
       "}\n",
       ".nbext-filter-input-wrap > .nbext-filter-input-subwrap,\n",
       ".nbext-filter-input-wrap > .nbext-filter-input-subwrap > input {\n",
       " border: none;\n",
       " outline: none;\n",
       " background-color: transparent;\n",
       " padding: 0;\n",
       " vertical-align: middle;\n",
       " margin-top: -2px;\n",
       "}\n",
       "span.rendered_html code {\n",
       " background-color: transparent;\n",
       " color: #a2b0c7;\n",
       "}\n",
       "#nbextensions-configurator-container > div.row.container-fluid.nbext-selector {\n",
       " padding-left: 0px;\n",
       " padding-right: 0px;\n",
       "}\n",
       ".nbext-filter-menu {\n",
       " max-height: 55vh !important;\n",
       " overflow-y: auto;\n",
       " outline: none;\n",
       " border: none;\n",
       "}\n",
       ".nbext-filter-menu:hover {\n",
       " border: none;\n",
       "}\n",
       ".alert-warning {\n",
       " background-color: #2d3846;\n",
       " border-color: #2d3846;\n",
       " color: #a2b0c7;\n",
       "}\n",
       ".notification_widget.danger {\n",
       " color: #ffffff;\n",
       " background-color: #e74c3c;\n",
       " border-color: #e74c3c;\n",
       " padding-right: 5px;\n",
       "}\n",
       "#nbextensions-configurator-container > div.nbext-buttons.tree-buttons.no-padding.pull-right > span > button {\n",
       " border: none !important;\n",
       "}\n",
       "button#refresh_running_list {\n",
       " border: none !important;\n",
       "}\n",
       "mark,\n",
       ".mark {\n",
       " background-color: #293340;\n",
       " color: #b0bdd7;\n",
       " padding: .15em;\n",
       "}\n",
       "a.text-warning,\n",
       "a.text-warning:hover {\n",
       " color: #546386;\n",
       "}\n",
       "a.text-warning.bg-warning {\n",
       " background-color: #1a2028;\n",
       "}\n",
       "span.bg-success.text-success {\n",
       " background-color: transparent;\n",
       " color: #48a667;\n",
       "}\n",
       "span.bg-danger.text-danger {\n",
       " background-color: #1a2028;\n",
       " color: #dc6972;\n",
       "}\n",
       ".has-success .input-group-addon {\n",
       " color: #48a667;\n",
       " border-color: transparent;\n",
       " background: inherit;\n",
       " background-color: rgba(83,180,115,.10);\n",
       "}\n",
       ".has-success .form-control {\n",
       " border-color: #48a667;\n",
       " -webkit-box-shadow: inset 0 1px 1px rgba(0,0,0,0.025);\n",
       " box-shadow: inset 0 1px 1px rgba(0,0,0,0.025);\n",
       "}\n",
       ".has-error .input-group-addon {\n",
       " color: #dc6972;\n",
       " border-color: transparent;\n",
       " background: inherit;\n",
       " background-color: rgba(192,57,67,.10);\n",
       "}\n",
       ".has-error .form-control {\n",
       " border-color: #dc6972;\n",
       " -webkit-box-shadow: inset 0 1px 1px rgba(0,0,0,0.025);\n",
       " box-shadow: inset 0 1px 1px rgba(0,0,0,0.025);\n",
       "}\n",
       ".kse-input-group-pretty > kbd {\n",
       " font-family: monospace, monospace;\n",
       " color: #a2b0c7;\n",
       " font-weight: normal;\n",
       " background: transparent;\n",
       "}\n",
       ".kse-input-group-pretty > kbd {\n",
       " font-family: monospace, monospace;\n",
       " color: #a2b0c7;\n",
       " font-weight: normal;\n",
       " background: transparent;\n",
       "}\n",
       "div.nbext-enable-btns .btn[disabled],\n",
       "div.nbext-enable-btns .btn[disabled]:hover,\n",
       ".btn-default.disabled,\n",
       ".btn-default[disabled] {\n",
       " background: #232c37;\n",
       " background-color: #232c37;\n",
       " color: #98a8c1;\n",
       "}\n",
       "label#Keyword-Filter {\n",
       " display: none;\n",
       "}\n",
       ".input-group .nbext-list-btn-add,\n",
       ".input-group-btn:last-child > .btn-group > .btn {\n",
       " background: #252b35;\n",
       " background-color: #252b35;\n",
       " border-color: #252b35;\n",
       " border: 2px solid #252b35;\n",
       "}\n",
       ".input-group .nbext-list-btn-add:hover,\n",
       ".input-group-btn:last-child > .btn-group > .btn:hover {\n",
       " background: #21262f;\n",
       " background-color: #21262f;\n",
       " border-color: #21262f;\n",
       " border: 2px solid #21262f;\n",
       "}\n",
       "#notebook-container > div.cell.code_cell.rendered.selected > div.widget-area > div.widget-subarea > div > div.widget_item.btn-group > button.btn.btn-default.dropdown-toggle.widget-combo-carrot-btn {\n",
       " background: #252b35;\n",
       " background-color: #252b35;\n",
       " border-color: #252b35;\n",
       "}\n",
       "#notebook-container > div.cell.code_cell.rendered.selected > div.widget-area > div.widget-subarea > div > div.widget_item.btn-group > button.btn.btn-default.dropdown-toggle.widget-combo-carrot-btn:hover {\n",
       " background: #21262f;\n",
       " background-color: #21262f;\n",
       " border-color: #21262f;\n",
       "}\n",
       ".ui-widget-content {\n",
       " background: #252e3a;\n",
       " background-color: #252e3a;\n",
       " border: 2px solid #252e3a;\n",
       " color: #a2b0c7;\n",
       "}\n",
       "div.collapsible_headings_toggle {\n",
       " color: rgba(75,95,118,.55) !important;\n",
       "}\n",
       "div.collapsible_headings_toggle:hover {\n",
       " color: #0b98c8 !important;\n",
       "}\n",
       ".collapsible_headings_toggle .h1,\n",
       ".collapsible_headings_toggle .h2,\n",
       ".collapsible_headings_toggle .h3,\n",
       ".collapsible_headings_toggle .h4,\n",
       ".collapsible_headings_toggle .h5,\n",
       ".collapsible_headings_toggle .h6 {\n",
       " margin: 0.3em .4em 0em 0em !important;\n",
       " line-height: 1.2 !important;\n",
       "}\n",
       "div.collapsible_headings_toggle .fa-caret-down:before,\n",
       "div.collapsible_headings_toggle .fa-caret-right:before {\n",
       " font-size: xx-large;\n",
       " transition: transform 1000ms;\n",
       " transform: none !important;\n",
       "}\n",
       ".collapsible_headings_collapsed.collapsible_headings_ellipsis .rendered_html h1:after,\n",
       ".collapsible_headings_collapsed.collapsible_headings_ellipsis .rendered_html h2:after,\n",
       ".collapsible_headings_collapsed.collapsible_headings_ellipsis .rendered_html h3:after,\n",
       ".collapsible_headings_collapsed.collapsible_headings_ellipsis .rendered_html h4:after,\n",
       ".collapsible_headings_collapsed.collapsible_headings_ellipsis .rendered_html h5:after,\n",
       ".collapsible_headings_collapsed.collapsible_headings_ellipsis .rendered_html h6:after {\n",
       " position: absolute;\n",
       " right: 0;\n",
       " bottom: 20% !important;\n",
       " content: \"[\\002026]\";\n",
       " color: rgba(75,95,118,.55) !important;\n",
       " padding: 0.5em 0em 0em 0em !important;\n",
       "}\n",
       ".collapsible_headings_ellipsis .rendered_html h1,\n",
       ".collapsible_headings_ellipsis .rendered_html h2,\n",
       ".collapsible_headings_ellipsis .rendered_html h3,\n",
       ".collapsible_headings_ellipsis .rendered_html h4,\n",
       ".collapsible_headings_ellipsis .rendered_html h5,\n",
       ".collapsible_headings_ellipsis .rendered_html h6,\n",
       ".collapsible_headings_toggle .fa {\n",
       " transition: transform 1000ms !important;\n",
       " -webkit-transform: inherit !important;\n",
       " -moz-transform: inherit !important;\n",
       " -ms-transform: inherit !important;\n",
       " -o-transform: inherit !important;\n",
       " transform: inherit !important;\n",
       " padding-right: 0px !important;\n",
       "}\n",
       "#toc-wrapper {\n",
       " z-index: 90;\n",
       " position: fixed !important;\n",
       " display: flex;\n",
       " flex-direction: column;\n",
       " overflow: hidden;\n",
       " padding: 10px;\n",
       " border-style: solid;\n",
       " border-width: thin;\n",
       " border-right-width: medium !important;\n",
       " background-color: #1a2028 !important;\n",
       "}\n",
       "#toc-wrapper.ui-draggable.ui-resizable.sidebar-wrapper {\n",
       " border-color: rgba(75,95,118,.30) !important;\n",
       "}\n",
       "#toc a,\n",
       "#navigate_menu a,\n",
       ".toc {\n",
       " color: #a2b0c7 !important;\n",
       " font-size: 11pt !important;\n",
       "}\n",
       "#toc li > span:hover {\n",
       " background-color: #323b48 !important;\n",
       "}\n",
       "#toc a:hover,\n",
       "#navigate_menu a:hover,\n",
       ".toc {\n",
       " color: #fefefe !important;\n",
       " font-size: 11pt !important;\n",
       "}\n",
       "#toc-wrapper .toc-item-num {\n",
       " color: #0b98c8 !important;\n",
       " font-size: 11pt !important;\n",
       "}\n",
       "input.raw_input {\n",
       " font-family: monospace, monospace;\n",
       " font-size: 11pt !important;\n",
       " color: #cdd2e9;\n",
       " background-color: #252e3a;\n",
       " border-color: #232c37;\n",
       " background: #232c37;\n",
       " width: auto;\n",
       " vertical-align: baseline;\n",
       " padding: 0em 0.25em;\n",
       " margin: 0em 0.25em;\n",
       " -webkit-box-shadow: none;\n",
       " box-shadow: none;\n",
       "}\n",
       "audio,\n",
       "video {\n",
       " display: inline;\n",
       " vertical-align: middle;\n",
       " align-content: center;\n",
       " margin-left: 20%;\n",
       "}\n",
       ".cmd-palette .modal-body {\n",
       " padding: 0px;\n",
       " margin: 0px;\n",
       "}\n",
       ".cmd-palette form {\n",
       " background: #293547;\n",
       " background-color: #293547;\n",
       "}\n",
       ".typeahead-field input:last-child,\n",
       ".typeahead-hint {\n",
       " background: #293547;\n",
       " background-color: #293547;\n",
       " z-index: 1;\n",
       "}\n",
       ".typeahead-field input {\n",
       " font-family: sans-serif;\n",
       " color: #cdd2e9;\n",
       " border: none;\n",
       " font-size: 28pt;\n",
       " display: inline-block;\n",
       " line-height: inherit;\n",
       " padding: 3px 10px;\n",
       " height: 70px;\n",
       "}\n",
       ".typeahead-select {\n",
       " background-color: #293547;\n",
       "}\n",
       "body > div.modal.cmd-palette.typeahead-field {\n",
       " display: table;\n",
       " border-collapse: separate;\n",
       " background-color: #2b3850;\n",
       "}\n",
       ".typeahead-container button {\n",
       " font-family: sans-serif;\n",
       " font-size: 28pt;\n",
       " background-color: #252b35;\n",
       " border: none;\n",
       " display: inline-block;\n",
       " line-height: inherit;\n",
       " padding: 3px 10px;\n",
       " height: 70px;\n",
       "}\n",
       ".typeahead-search-icon {\n",
       " min-width: 40px;\n",
       " min-height: 55px;\n",
       " display: block;\n",
       " vertical-align: middle;\n",
       " text-align: center;\n",
       "}\n",
       ".typeahead-container button:focus,\n",
       ".typeahead-container button:hover {\n",
       " color: #dbe1ea;\n",
       " background-color: #21262f;\n",
       " border-color: #293340;\n",
       "}\n",
       ".typeahead-list > li.typeahead-group.active > a,\n",
       ".typeahead-list > li.typeahead-group > a,\n",
       ".typeahead-list > li.typeahead-group > a:focus,\n",
       ".typeahead-list > li.typeahead-group > a:hover {\n",
       " display: none;\n",
       "}\n",
       ".typeahead-dropdown > li > a,\n",
       ".typeahead-list > li > a {\n",
       " color: #a2b0c7;\n",
       " text-decoration: none;\n",
       "}\n",
       ".typeahead-dropdown,\n",
       ".typeahead-list {\n",
       " font-family: sans-serif;\n",
       " font-size: 13pt;\n",
       " color: #a2b0c7;\n",
       " background-color: #202937;\n",
       " border: none;\n",
       " background-clip: padding-box;\n",
       " margin-top: 0px;\n",
       " padding: 3px 2px 3px 0px;\n",
       " line-height: 1.7;\n",
       "}\n",
       ".typeahead-dropdown > li.active > a,\n",
       ".typeahead-dropdown > li > a:focus,\n",
       ".typeahead-dropdown > li > a:hover,\n",
       ".typeahead-list > li.active > a,\n",
       ".typeahead-list > li > a:focus,\n",
       ".typeahead-list > li > a:hover {\n",
       " color: #dbe1ea;\n",
       " background-color: #2b3850;\n",
       " border-color: #2b3850;\n",
       "}\n",
       ".command-shortcut:before {\n",
       " content: \"(command)\";\n",
       " padding-right: 3px;\n",
       " color: #546386;\n",
       "}\n",
       ".edit-shortcut:before {\n",
       " content: \"(edit)\";\n",
       " padding-right: 3px;\n",
       " color: #546386;\n",
       "}\n",
       "ul.typeahead-list i {\n",
       " margin-left: 1px;\n",
       " width: 18px;\n",
       " margin-right: 10px;\n",
       "}\n",
       "ul.typeahead-list {\n",
       " max-height: 50vh;\n",
       " overflow: auto;\n",
       "}\n",
       ".typeahead-list > li {\n",
       " position: relative;\n",
       " border: none;\n",
       "}\n",
       "div.input.typeahead-hint,\n",
       "input.typeahead-hint,\n",
       "body > div.modal.cmd-palette.in > div > div > div > form > div > div.typeahead-field > span.typeahead-query > input.typeahead-hint {\n",
       " color: #546386 !important;\n",
       " background-color: transparent;\n",
       " padding: 3px 10px;\n",
       "}\n",
       ".typeahead-dropdown > li > a,\n",
       ".typeahead-list > li > a {\n",
       " display: block;\n",
       " padding: 5px;\n",
       " clear: both;\n",
       " font-weight: 400;\n",
       " line-height: 1.7;\n",
       " border: 1px solid #202937;\n",
       " border-bottom-color: rgba(75,95,118,.55);\n",
       "}\n",
       "body > div.modal.cmd-palette.in > div {\n",
       " min-width: 750px;\n",
       " margin: 150px auto;\n",
       "}\n",
       ".typeahead-container strong {\n",
       " font-weight: bolder;\n",
       " color: #0b98c8;\n",
       "}\n",
       "#find-and-replace #replace-preview .match,\n",
       "#find-and-replace #replace-preview .insert {\n",
       " color: #ffffff;\n",
       " background-color: #008ebf;\n",
       " border-color: #008ebf;\n",
       " border-style: solid;\n",
       " border-width: 1px;\n",
       " border-radius: 0px;\n",
       "}\n",
       "#find-and-replace #replace-preview .replace .match {\n",
       " background-color: #dc6972;\n",
       " border-color: #dc6972;\n",
       " border-radius: 0px;\n",
       "}\n",
       "#find-and-replace #replace-preview .replace .insert {\n",
       " background-color: #48a667;\n",
       " border-color: #48a667;\n",
       " border-radius: 0px;\n",
       "}\n",
       ".jupyter-dashboard-menu-item.selected::before {\n",
       " font-family: 'FontAwesome' !important;\n",
       " content: '\\f00c' !important;\n",
       " position: absolute !important;\n",
       " color: #0b98c8 !important;\n",
       " left: 0px !important;\n",
       " top: 13px !important;\n",
       " font-size: 12px !important;\n",
       "}\n",
       ".shortcut_key,\n",
       "span.shortcut_key {\n",
       " display: inline-block;\n",
       " width: 16ex;\n",
       " text-align: right;\n",
       " font-family: monospace;\n",
       "}\n",
       ".jupyter-keybindings {\n",
       " padding: 1px;\n",
       " line-height: 24px;\n",
       " border-bottom: 1px solid rgba(75,95,118,.30);\n",
       "}\n",
       ".jupyter-keybindings i {\n",
       " background: #252e3a;\n",
       " font-size: small;\n",
       " padding: 5px;\n",
       " margin-left: 7px;\n",
       "}\n",
       "div#short-key-bindings-intro.well,\n",
       ".well {\n",
       " background-color: #252b35;\n",
       " border: 1px solid #252b35;\n",
       " color: #a2b0c7;\n",
       " border-radius: 2px;\n",
       " -webkit-box-shadow: none;\n",
       " box-shadow: none;\n",
       "}\n",
       "#texteditor-backdrop {\n",
       " background: #1a2028;\n",
       " background-color: #1a2028;\n",
       "}\n",
       "#texteditor-backdrop #texteditor-container .CodeMirror-gutter,\n",
       "#texteditor-backdrop #texteditor-container .CodeMirror-gutters {\n",
       " background: #334050;\n",
       " background-color: #334050;\n",
       " color: #546386;\n",
       "}\n",
       ".edit_app #menubar .navbar {\n",
       " margin-bottom: 0px;\n",
       "}\n",
       "#texteditor-backdrop #texteditor-container {\n",
       " padding: 0px;\n",
       " background-color: #293340;\n",
       " box-shadow: none;\n",
       "}\n",
       ".terminal-app {\n",
       " background: #1a2028;\n",
       "}\n",
       ".terminal-app > #header {\n",
       " background: #1a2028;\n",
       "}\n",
       ".terminal-app .terminal {\n",
       " font-family: monospace, monospace;\n",
       " font-size: 11pt;\n",
       " line-height: 170%;\n",
       " color: #cdd2e9;\n",
       " background: #293340;\n",
       " padding: 0.4em;\n",
       " border-radius: 2px;\n",
       " -webkit-box-shadow: none;\n",
       " box-shadow: none;\n",
       "}\n",
       ".terminal .xterm-viewport {\n",
       " background-color: #293340;\n",
       " color: #cdd2e9;\n",
       " overflow-y: auto;\n",
       "}\n",
       ".terminal .xterm-color-0 {\n",
       " color: #0b98c8;\n",
       "}\n",
       ".terminal .xterm-color-1 {\n",
       " color: #e17e85;\n",
       "}\n",
       ".terminal .xterm-color-2 {\n",
       " color: #4cb2ff;\n",
       "}\n",
       ".terminal .xterm-color-3 {\n",
       " color: #e17e85;\n",
       "}\n",
       ".terminal .xterm-color-4 {\n",
       " color: #51c0ef;\n",
       "}\n",
       ".terminal .xterm-color-5 {\n",
       " color: #61ba86;\n",
       "}\n",
       ".terminal .xterm-color-6 {\n",
       " color: #be86e3;\n",
       "}\n",
       ".terminal .xterm-color-7 {\n",
       " color: #ffec8e;\n",
       "}\n",
       ".terminal .xterm-color-8 {\n",
       " color: #51c0ef;\n",
       "}\n",
       ".terminal .xterm-color-9 {\n",
       " color: #61ba86;\n",
       "}\n",
       ".terminal .xterm-color-10 {\n",
       " color: #e17e85;\n",
       "}\n",
       ".terminal .xterm-color-14 {\n",
       " color: #be86e3;\n",
       "}\n",
       ".terminal .xterm-bg-color-15 {\n",
       " background-color: #293340;\n",
       "}\n",
       ".terminal:not(.xterm-cursor-style-underline):not(.xterm-cursor-style-bar) .terminal-cursor {\n",
       " background-color: #0b98c8;\n",
       " color: #293340;\n",
       "}\n",
       ".terminal:not(.focus) .terminal-cursor {\n",
       " outline: 1px solid #0b98c8;\n",
       " outline-offset: -1px;\n",
       "}\n",
       ".celltoolbar {\n",
       " font-size: 100%;\n",
       " padding-top: 3px;\n",
       " border-color: transparent;\n",
       " border-bottom: thin solid rgba(0,156,209,.3);\n",
       " background: transparent;\n",
       "}\n",
       ".cell-tag,\n",
       ".tags-input input,\n",
       ".tags-input button {\n",
       " color: #a2b0c7;\n",
       " background-color: #1a2028;\n",
       " background-image: none;\n",
       " border: 1px solid #a2b0c7;\n",
       " border-radius: 1px;\n",
       " box-shadow: none;\n",
       " width: inherit;\n",
       " font-size: inherit;\n",
       " height: 22px;\n",
       " line-height: 22px;\n",
       "}\n",
       "#notebook-container > div.cell.code_cell.rendered.selected > div.input > div.inner_cell > div.ctb_hideshow.ctb_show > div > div > button,\n",
       "#notebook-container > div.input > div.inner_cell > div.ctb_hideshow.ctb_show > div > div > button {\n",
       " font-size: 10pt;\n",
       " color: #a2b0c7;\n",
       " background-color: #1a2028;\n",
       " background-image: none;\n",
       " border: 1px solid #a2b0c7;\n",
       " border-radius: 1px;\n",
       " box-shadow: none;\n",
       " width: inherit;\n",
       " font-size: inherit;\n",
       " height: 22px;\n",
       " line-height: 22px;\n",
       "}\n",
       "div#pager #pager-contents {\n",
       " background: #1a2028 !important;\n",
       " background-color: #1a2028 !important;\n",
       "}\n",
       "div#pager pre {\n",
       " color: #cdd2e9 !important;\n",
       " background: #293340 !important;\n",
       " background-color: #293340 !important;\n",
       " padding: 0.4em;\n",
       "}\n",
       "div#pager .ui-resizable-handle {\n",
       " top: 0px;\n",
       " height: 8px;\n",
       " background: #0b98c8 !important;\n",
       " border-top: 1px solid #0b98c8;\n",
       " border-bottom: 1px solid #0b98c8;\n",
       "}\n",
       "div.CodeMirror,\n",
       "div.CodeMirror pre {\n",
       " font-family: monospace, monospace;\n",
       " font-size: 11pt;\n",
       " line-height: 170%;\n",
       " color: #cdd2e9;\n",
       "}\n",
       "div.CodeMirror-lines {\n",
       " padding-bottom: .9em;\n",
       " padding-left: .5em;\n",
       " padding-right: 1.5em;\n",
       " padding-top: .7em;\n",
       "}\n",
       "span.ansiblack,\n",
       ".ansi-black-fg {\n",
       " color: #2b303b;\n",
       "}\n",
       "span.ansiblue,\n",
       ".ansi-blue-fg,\n",
       ".ansi-blue-intense-fg {\n",
       " color: #61afef;\n",
       "}\n",
       "span.ansigray,\n",
       ".ansi-gray-fg,\n",
       ".ansi-gray-intense-fg {\n",
       " color: #899ab8;\n",
       "}\n",
       "span.ansigreen,\n",
       ".ansi-green-fg {\n",
       " color: #8fca9a;\n",
       "}\n",
       ".ansi-green-intense-fg {\n",
       " color: #899ab8;\n",
       "}\n",
       "span.ansipurple,\n",
       ".ansi-purple-fg,\n",
       ".ansi-purple-intense-fg {\n",
       " color: #b399ef;\n",
       "}\n",
       "span.ansicyan,\n",
       ".ansi-cyan-fg,\n",
       ".ansi-cyan-intense-fg {\n",
       " color: #b399ef;\n",
       "}\n",
       "span.ansiyellow,\n",
       ".ansi-yellow-fg,\n",
       ".ansi-yellow-intense-fg {\n",
       " color: #ffec8e;\n",
       "}\n",
       "span.ansired,\n",
       ".ansi-red-fg,\n",
       ".ansi-red-intense-fg {\n",
       " color: #e07a7a;\n",
       "}\n",
       "div.output-stderr {\n",
       " background-color: #e07a7a;\n",
       "}\n",
       "div.output-stderr pre {\n",
       " color: #d0d4e6;\n",
       "}\n",
       "div.js-error {\n",
       " color: #e07a7a;\n",
       "}\n",
       ".ipython_tooltip {\n",
       " font-family: monospace, monospace;\n",
       " font-size: 11pt;\n",
       " line-height: 170%;\n",
       " border: 2px solid #252c36;\n",
       " background: #363f4e;\n",
       " background-color: #363f4e;\n",
       " border-radius: 2px;\n",
       " overflow-x: visible;\n",
       " overflow-y: visible;\n",
       " box-shadow: none;\n",
       " position: absolute;\n",
       " z-index: 1000;\n",
       "}\n",
       ".ipython_tooltip .tooltiptext pre {\n",
       " font-family: monospace, monospace;\n",
       " font-size: 11pt;\n",
       " line-height: 170%;\n",
       " background: #363f4e;\n",
       " background-color: #363f4e;\n",
       " color: #cdd2e9;\n",
       " overflow-x: visible;\n",
       " overflow-y: visible;\n",
       " max-width: 900px;\n",
       "}\n",
       "div#tooltip.ipython_tooltip {\n",
       " overflow-x: wrap;\n",
       " overflow-y: visible;\n",
       " max-width: 800px;\n",
       "}\n",
       "div.tooltiptext.bigtooltip {\n",
       " overflow-x: visible;\n",
       " overflow-y: scroll;\n",
       " height: 400px;\n",
       " max-width: 800px;\n",
       "}\n",
       ".cm-s-ipython.CodeMirror {\n",
       " font-family: monospace, monospace;\n",
       " font-size: 11pt;\n",
       " background: #293340;\n",
       " color: #cdd2e9;\n",
       " border-radius: 2px;\n",
       " font-style: normal;\n",
       " font-weight: normal;\n",
       "}\n",
       ".cm-s-ipython div.CodeMirror-selected {\n",
       " background: #334050;\n",
       "}\n",
       ".CodeMirror-gutters {\n",
       " border: none;\n",
       " border-right: 1px solid #334050 !important;\n",
       " background-color: #334050 !important;\n",
       " background: #334050 !important;\n",
       " border-radius: 0px;\n",
       " white-space: nowrap;\n",
       "}\n",
       ".cm-s-ipython .CodeMirror-gutters {\n",
       " background: #334050;\n",
       " border: none;\n",
       " border-radius: 0px;\n",
       " width: 36px;\n",
       "}\n",
       ".cm-s-ipython .CodeMirror-linenumber {\n",
       " color: #546386;\n",
       "}\n",
       ".CodeMirror-sizer {\n",
       " margin-left: 40px;\n",
       "}\n",
       ".CodeMirror-linenumber,\n",
       "div.CodeMirror-linenumber,\n",
       ".CodeMirror-gutter.CodeMirror-linenumberdiv.CodeMirror-gutter.CodeMirror-linenumber {\n",
       " padding-right: 1px;\n",
       " margin-left: 0px;\n",
       " margin: 0px;\n",
       " width: 26px !important;\n",
       " padding: 0px;\n",
       " text-align: right;\n",
       "}\n",
       ".CodeMirror-linenumber {\n",
       " color: #546386;\n",
       "}\n",
       ".cm-s-ipython .CodeMirror-cursor {\n",
       " border-left: 2px solid #0095ff !important;\n",
       "}\n",
       ".cm-s-ipython span.cm-comment {\n",
       " color: #667fb1;\n",
       " font-style: italic;\n",
       "}\n",
       ".cm-s-ipython span.cm-atom {\n",
       " color: #be86e3;\n",
       "}\n",
       ".cm-s-ipython span.cm-number {\n",
       " color: #51c0ef;\n",
       "}\n",
       ".cm-s-ipython span.cm-property {\n",
       " color: #cdd2e9;\n",
       "}\n",
       ".cm-s-ipython span.cm-attribute {\n",
       " color: #cdd2e9;\n",
       "}\n",
       ".cm-s-ipython span.cm-keyword {\n",
       " color: #4cb2ff;\n",
       " font-weight: normal;\n",
       "}\n",
       ".cm-s-ipython span.cm-string {\n",
       " color: #61ba86;\n",
       "}\n",
       ".cm-s-ipython span.cm-meta {\n",
       " color: #ffec8e;\n",
       "}\n",
       ".cm-s-ipython span.cm-operator {\n",
       " color: #00b4ff;\n",
       "}\n",
       ".cm-s-ipython span.cm-builtin {\n",
       " color: #e17e85;\n",
       "}\n",
       ".cm-s-ipython span.cm-variable {\n",
       " color: #cdd2e9;\n",
       "}\n",
       ".cm-s-ipython span.cm-variable-2 {\n",
       " color: #e17e85;\n",
       "}\n",
       ".cm-s-ipython span.cm-variable-3 {\n",
       " color: #ffec8e;\n",
       "}\n",
       ".cm-s-ipython span.cm-def {\n",
       " color: #ffec8e;\n",
       " font-weight: normal;\n",
       "}\n",
       ".cm-s-ipython span.cm-error {\n",
       " background: rgba(191,97,106,.4);\n",
       "}\n",
       ".cm-s-ipython span.cm-tag {\n",
       " color: #be86e3;\n",
       "}\n",
       ".cm-s-ipython span.cm-link {\n",
       " color: #51c0ef;\n",
       "}\n",
       ".cm-s-ipython span.cm-storage {\n",
       " color: #be86e3;\n",
       "}\n",
       ".cm-s-ipython span.cm-entity {\n",
       " color: #be86e3;\n",
       "}\n",
       ".cm-s-ipython span.cm-quote {\n",
       " color: #61ba86;\n",
       "}\n",
       "div.CodeMirror span.CodeMirror-matchingbracket {\n",
       " color: #ffffff;\n",
       " font-weight: bold;\n",
       " background-color: #4c8be2;\n",
       "}\n",
       "div.CodeMirror span.CodeMirror-nonmatchingbracket {\n",
       " color: #ffffff;\n",
       " font-weight: bold;\n",
       " background: rgba(191,97,106,.4) !important;\n",
       "}\n",
       ".cm-header-1 {\n",
       " font-size: 215%;\n",
       "}\n",
       ".cm-header-2 {\n",
       " font-size: 180%;\n",
       "}\n",
       ".cm-header-3 {\n",
       " font-size: 150%;\n",
       "}\n",
       ".cm-header-4 {\n",
       " font-size: 120%;\n",
       "}\n",
       ".cm-header-5 {\n",
       " font-size: 100%;\n",
       "}\n",
       ".cm-s-default .cm-hr {\n",
       " color: #00b4ff;\n",
       "}\n",
       "div.cell.text_cell .cm-s-default .cm-header {\n",
       " font-family: sans-serif;\n",
       " font-weight: normal;\n",
       " color: #0b98c8 !important;\n",
       " margin-top: 0.3em !important;\n",
       " margin-bottom: 0.3em !important;\n",
       "}\n",
       "div.cell.text_cell .cm-s-default span.cm-variable-2 {\n",
       " color: #b0bdd7 !important;\n",
       "}\n",
       "div.cell.text_cell .cm-s-default span.cm-variable-3 {\n",
       " color: #ffec8e !important;\n",
       "}\n",
       ".cm-s-default span.cm-comment {\n",
       " color: #667fb1 !important;\n",
       "}\n",
       ".cm-s-default .cm-tag {\n",
       " color: #8fb36a;\n",
       "}\n",
       ".cm-s-default .cm-builtin {\n",
       " color: #e17e85;\n",
       "}\n",
       ".cm-s-default .cm-string {\n",
       " color: #61ba86;\n",
       "}\n",
       ".cm-s-default .cm-keyword {\n",
       " color: #4cb2ff;\n",
       "}\n",
       ".cm-s-default .cm-number {\n",
       " color: #51c0ef;\n",
       "}\n",
       ".cm-s-default .cm-error {\n",
       " color: #be86e3;\n",
       "}\n",
       ".cm-s-default .cm-link {\n",
       " color: #51c0ef;\n",
       "}\n",
       ".cm-s-default .cm-atom {\n",
       " color: #51c0ef;\n",
       "}\n",
       ".cm-s-default .cm-def {\n",
       " color: #ffec8e;\n",
       "}\n",
       ".CodeMirror-cursor {\n",
       " border-left: 2px solid #0095ff !important;\n",
       " border-right: none;\n",
       " width: 0;\n",
       "}\n",
       ".cm-s-default div.CodeMirror-selected {\n",
       " background: #334050;\n",
       "}\n",
       ".cm-s-default .cm-selected {\n",
       " background: #334050;\n",
       "}\n",
       ".MathJax_Display,\n",
       ".MathJax {\n",
       " border: 0 !important;\n",
       " font-size: 100% !important;\n",
       " text-align: center !important;\n",
       " margin: 0em !important;\n",
       " line-height: 2.25 !important;\n",
       "}\n",
       ".MathJax:focus,\n",
       "body :focus .MathJax {\n",
       " display: inline-block !important;\n",
       "}\n",
       ".MathJax:focus,\n",
       "body :focus .MathJax {\n",
       " display: inline-block !important;\n",
       "}\n",
       ".completions {\n",
       " position: absolute;\n",
       " z-index: 110;\n",
       " overflow: hidden;\n",
       " border: medium solid rgba(0,156,209,.5);\n",
       " box-shadow: none;\n",
       " line-height: 1;\n",
       "}\n",
       ".completions select {\n",
       " background: #293340;\n",
       " background-color: #293340;\n",
       " outline: none;\n",
       " border: none;\n",
       " padding: 0px;\n",
       " margin: 0px;\n",
       " margin-left: 2px;\n",
       " overflow: auto;\n",
       " font-family: monospace, monospace;\n",
       " font-size: 11pt;\n",
       " color: #cdd2e9;\n",
       " width: auto;\n",
       "}\n",
       "div#maintoolbar {\n",
       " display: none !important;\n",
       "}\n",
       "#header-container {\n",
       " display: none !important;\n",
       "}\n",
       "\n",
       "<script>\n",
       "    MathJax.Hub.Config({\n",
       "        \"HTML-CSS\": {\n",
       "            /*preferredFont: \"TeX\",*/\n",
       "            /*availableFonts: [\"TeX\", \"STIX\"],*/\n",
       "            styles: {\n",
       "                scale: 100,\n",
       "                \".MathJax_Display\": {\n",
       "                    \"font-size\": \"100%\",\n",
       "                }\n",
       "            }\n",
       "        }\n",
       "    });\n",
       "</script>\n",
       "     </style>"
      ],
      "text/plain": [
       "<IPython.core.display.HTML object>"
      ]
     },
     "execution_count": 1,
     "metadata": {},
     "output_type": "execute_result"
    }
   ],
   "source": [
    "from jupyterthemes import get_themes\n",
    "import jupyterthemes as jt\n",
    "from jupyterthemes.stylefx import set_nb_theme\n",
    "\n",
    "set_nb_theme('chesterish')"
   ]
  },
  {
   "cell_type": "code",
   "execution_count": 19,
   "id": "672a49c9",
   "metadata": {},
   "outputs": [],
   "source": [
    "import numpy as np"
   ]
  },
  {
   "cell_type": "code",
   "execution_count": 5,
   "id": "d6948e95",
   "metadata": {},
   "outputs": [
    {
     "data": {
      "text/plain": [
       "array([0, 1, 2, 3, 4, 5])"
      ]
     },
     "execution_count": 5,
     "metadata": {},
     "output_type": "execute_result"
    }
   ],
   "source": [
    "np.arange(6)"
   ]
  },
  {
   "cell_type": "code",
   "execution_count": 8,
   "id": "3c5a8229",
   "metadata": {},
   "outputs": [
    {
     "data": {
      "text/plain": [
       "array([1, 2, 3, 4, 5, 6])"
      ]
     },
     "execution_count": 8,
     "metadata": {},
     "output_type": "execute_result"
    }
   ],
   "source": [
    "np.array([1,2,3,4,5,6])"
   ]
  },
  {
   "cell_type": "code",
   "execution_count": 9,
   "id": "17dd2a09",
   "metadata": {},
   "outputs": [
    {
     "name": "stdout",
     "output_type": "stream",
     "text": [
      "[0 1 2 3 4 5 6 7 8 9]\n",
      "10\n"
     ]
    }
   ],
   "source": [
    "x = np.arange(10)\n",
    "print(x)\n",
    "print(len(x))"
   ]
  },
  {
   "cell_type": "code",
   "execution_count": 11,
   "id": "24570383",
   "metadata": {},
   "outputs": [
    {
     "name": "stdout",
     "output_type": "stream",
     "text": [
      "[ 4  6  8 10 12 14 16 18]\n",
      "8\n"
     ]
    }
   ],
   "source": [
    "x = np.arange(4,20,2)\n",
    "print(x)\n",
    "print(len(x))"
   ]
  },
  {
   "cell_type": "code",
   "execution_count": 12,
   "id": "3f8a98ea",
   "metadata": {},
   "outputs": [
    {
     "name": "stdout",
     "output_type": "stream",
     "text": [
      "[20 18 16 14 12 10  8  6]\n"
     ]
    }
   ],
   "source": [
    "x = np.arange(20,4,-2)\n",
    "print(x)"
   ]
  },
  {
   "cell_type": "code",
   "execution_count": 13,
   "id": "ff1277d1",
   "metadata": {},
   "outputs": [
    {
     "data": {
      "text/plain": [
       "list"
      ]
     },
     "execution_count": 13,
     "metadata": {},
     "output_type": "execute_result"
    }
   ],
   "source": [
    "list1 = [3,8,7,6]\n",
    "type(list1)"
   ]
  },
  {
   "cell_type": "code",
   "execution_count": 14,
   "id": "5af403b4",
   "metadata": {},
   "outputs": [
    {
     "name": "stdout",
     "output_type": "stream",
     "text": [
      "[3 8 7 6]\n",
      "<class 'numpy.ndarray'>\n"
     ]
    }
   ],
   "source": [
    "a1 = np.array(list1)\n",
    "print(a1)\n",
    "print(type(a1))"
   ]
  },
  {
   "cell_type": "code",
   "execution_count": 15,
   "id": "bb443396",
   "metadata": {},
   "outputs": [
    {
     "data": {
      "text/plain": [
       "array([3, 8, 7, 6, 3])"
      ]
     },
     "execution_count": 15,
     "metadata": {},
     "output_type": "execute_result"
    }
   ],
   "source": [
    "a1 = np.append(a1, 3)\n",
    "a1"
   ]
  },
  {
   "cell_type": "code",
   "execution_count": 16,
   "id": "bbc81c29",
   "metadata": {},
   "outputs": [
    {
     "data": {
      "text/plain": [
       "array([5, 8, 2])"
      ]
     },
     "execution_count": 16,
     "metadata": {},
     "output_type": "execute_result"
    }
   ],
   "source": [
    "a2 = np.array([5,8,2])\n",
    "a2"
   ]
  },
  {
   "cell_type": "code",
   "execution_count": 18,
   "id": "b0aed871",
   "metadata": {},
   "outputs": [
    {
     "data": {
      "text/plain": [
       "array([3, 8, 7, 6, 3, 5, 8, 2])"
      ]
     },
     "execution_count": 18,
     "metadata": {},
     "output_type": "execute_result"
    }
   ],
   "source": [
    "a1 = np.concatenate((a1, a2))\n",
    "a1"
   ]
  },
  {
   "cell_type": "code",
   "execution_count": 22,
   "id": "6daa4335",
   "metadata": {},
   "outputs": [
    {
     "data": {
      "text/plain": [
       "array([ 3,  8, 52,  7,  6,  3,  5,  8,  2])"
      ]
     },
     "execution_count": 22,
     "metadata": {},
     "output_type": "execute_result"
    }
   ],
   "source": [
    "a1 = np.insert(a1, 2, 52)\n",
    "a1"
   ]
  },
  {
   "cell_type": "code",
   "execution_count": 23,
   "id": "3e77ef8f",
   "metadata": {},
   "outputs": [
    {
     "data": {
      "text/plain": [
       "array([3, 8, 7, 6, 3, 5, 8, 2])"
      ]
     },
     "execution_count": 23,
     "metadata": {},
     "output_type": "execute_result"
    }
   ],
   "source": [
    "a1 = np.delete(a1, 2)\n",
    "a1"
   ]
  },
  {
   "cell_type": "code",
   "execution_count": 24,
   "id": "94b26236",
   "metadata": {},
   "outputs": [
    {
     "data": {
      "text/plain": [
       "3"
      ]
     },
     "execution_count": 24,
     "metadata": {},
     "output_type": "execute_result"
    }
   ],
   "source": [
    "a1[4]"
   ]
  },
  {
   "cell_type": "code",
   "execution_count": 25,
   "id": "1c4c5fed",
   "metadata": {},
   "outputs": [
    {
     "name": "stdout",
     "output_type": "stream",
     "text": [
      "[ 3  8  7  6 55  5  8  2]\n"
     ]
    }
   ],
   "source": [
    "a1[4] = 55\n",
    "print(a1)"
   ]
  },
  {
   "cell_type": "code",
   "execution_count": 28,
   "id": "3235e134",
   "metadata": {},
   "outputs": [
    {
     "data": {
      "text/plain": [
       "array([ 4,  3,  6,  7,  5,  8, 10,  3])"
      ]
     },
     "execution_count": 28,
     "metadata": {},
     "output_type": "execute_result"
    }
   ],
   "source": [
    "a3 = np.array([4,3,6,7,5,8,10,3])\n",
    "a3"
   ]
  },
  {
   "cell_type": "code",
   "execution_count": 29,
   "id": "045629d1",
   "metadata": {},
   "outputs": [
    {
     "data": {
      "text/plain": [
       "array([[ 4,  3],\n",
       "       [ 6,  7],\n",
       "       [ 5,  8],\n",
       "       [10,  3]])"
      ]
     },
     "execution_count": 29,
     "metadata": {},
     "output_type": "execute_result"
    }
   ],
   "source": [
    "a4 = a3.reshape(4, 2)\n",
    "a4"
   ]
  },
  {
   "cell_type": "code",
   "execution_count": 30,
   "id": "b63842a5",
   "metadata": {},
   "outputs": [
    {
     "data": {
      "text/plain": [
       "array([[ 4,  3,  6,  7],\n",
       "       [ 5,  8, 10,  3]])"
      ]
     },
     "execution_count": 30,
     "metadata": {},
     "output_type": "execute_result"
    }
   ],
   "source": [
    "a4 = a3.reshape(2, -1)\n",
    "a4"
   ]
  },
  {
   "cell_type": "code",
   "execution_count": 49,
   "id": "9fa0c3e8",
   "metadata": {},
   "outputs": [
    {
     "name": "stdout",
     "output_type": "stream",
     "text": [
      "[[ 4  3  6  7]\n",
      " [ 5  8 99  3]]\n",
      "<class 'numpy.ndarray'>\n"
     ]
    }
   ],
   "source": [
    "a5 = a3.reshape(2, -1)\n",
    "print(a5)\n",
    "print(type(a5))"
   ]
  },
  {
   "cell_type": "code",
   "execution_count": 50,
   "id": "d9791811",
   "metadata": {},
   "outputs": [
    {
     "data": {
      "text/plain": [
       "99"
      ]
     },
     "execution_count": 50,
     "metadata": {},
     "output_type": "execute_result"
    }
   ],
   "source": [
    "a5[1][2]"
   ]
  },
  {
   "cell_type": "code",
   "execution_count": 51,
   "id": "ec096bd8",
   "metadata": {},
   "outputs": [
    {
     "data": {
      "text/plain": [
       "array([[ 4,  3,  6,  7],\n",
       "       [ 5,  8, 99,  3]])"
      ]
     },
     "execution_count": 51,
     "metadata": {},
     "output_type": "execute_result"
    }
   ],
   "source": [
    "a5[1][2] = 99\n",
    "a5"
   ]
  },
  {
   "cell_type": "code",
   "execution_count": 52,
   "id": "7597403d",
   "metadata": {},
   "outputs": [
    {
     "data": {
      "text/plain": [
       "array([[ 4,  3,  6,  7],\n",
       "       [ 5,  8, 99,  3]])"
      ]
     },
     "execution_count": 52,
     "metadata": {},
     "output_type": "execute_result"
    }
   ],
   "source": [
    "a5[:]"
   ]
  },
  {
   "cell_type": "code",
   "execution_count": 53,
   "id": "1fe290d5",
   "metadata": {},
   "outputs": [
    {
     "data": {
      "text/plain": [
       "array([3, 8])"
      ]
     },
     "execution_count": 53,
     "metadata": {},
     "output_type": "execute_result"
    }
   ],
   "source": [
    "a5[:,1]"
   ]
  },
  {
   "cell_type": "code",
   "execution_count": 54,
   "id": "dd4fb9dd",
   "metadata": {},
   "outputs": [
    {
     "data": {
      "text/plain": [
       "array([7, 3])"
      ]
     },
     "execution_count": 54,
     "metadata": {},
     "output_type": "execute_result"
    }
   ],
   "source": [
    "a5[:,3]"
   ]
  },
  {
   "cell_type": "code",
   "execution_count": 55,
   "id": "1b19cc79",
   "metadata": {},
   "outputs": [
    {
     "data": {
      "text/plain": [
       "array([[ 5,  8, 99,  3]])"
      ]
     },
     "execution_count": 55,
     "metadata": {},
     "output_type": "execute_result"
    }
   ],
   "source": [
    "a5[1:]"
   ]
  },
  {
   "cell_type": "code",
   "execution_count": 64,
   "id": "f3539b82",
   "metadata": {},
   "outputs": [],
   "source": [
    "newcol = np.array([5,8])\n",
    "newcol = newcol.reshape(2, -1)"
   ]
  },
  {
   "cell_type": "code",
   "execution_count": 65,
   "id": "70793765",
   "metadata": {},
   "outputs": [
    {
     "data": {
      "text/plain": [
       "array([[ 4,  3,  6,  7],\n",
       "       [ 5,  8, 99,  3]])"
      ]
     },
     "execution_count": 65,
     "metadata": {},
     "output_type": "execute_result"
    }
   ],
   "source": [
    "a5"
   ]
  },
  {
   "cell_type": "code",
   "execution_count": 66,
   "id": "0c826b7e",
   "metadata": {},
   "outputs": [
    {
     "data": {
      "text/plain": [
       "array([[ 4,  3,  6,  7,  5],\n",
       "       [ 5,  8, 99,  3,  8]])"
      ]
     },
     "execution_count": 66,
     "metadata": {},
     "output_type": "execute_result"
    }
   ],
   "source": [
    "a5 = np.hstack([a5, newcol])\n",
    "a5"
   ]
  },
  {
   "cell_type": "code",
   "execution_count": 72,
   "id": "8beb324b",
   "metadata": {},
   "outputs": [
    {
     "name": "stdout",
     "output_type": "stream",
     "text": [
      "[[ 4  3  6  7  5]\n",
      " [ 5  8 99  3  8]\n",
      " [10 20 30 15 20]]\n"
     ]
    }
   ],
   "source": [
    "newrow = np.array([10,20,30,15, 20])\n",
    "a6 = np.vstack([a5, newrow])\n",
    "print(a6)"
   ]
  },
  {
   "cell_type": "code",
   "execution_count": 73,
   "id": "7028c2bf",
   "metadata": {},
   "outputs": [
    {
     "data": {
      "text/plain": [
       "array([[ 4,  3,  6,  7,  5],\n",
       "       [10, 20, 30, 15, 20]])"
      ]
     },
     "execution_count": 73,
     "metadata": {},
     "output_type": "execute_result"
    }
   ],
   "source": [
    "np.delete(a6, (1), axis=0)"
   ]
  },
  {
   "cell_type": "code",
   "execution_count": 74,
   "id": "b29bebc3",
   "metadata": {},
   "outputs": [
    {
     "data": {
      "text/plain": [
       "array([[ 4,  3,  6,  7,  5],\n",
       "       [ 5,  8, 99,  3,  8],\n",
       "       [10, 20, 30, 15, 20]])"
      ]
     },
     "execution_count": 74,
     "metadata": {},
     "output_type": "execute_result"
    }
   ],
   "source": [
    "a6"
   ]
  },
  {
   "cell_type": "code",
   "execution_count": 75,
   "id": "d164c878",
   "metadata": {},
   "outputs": [
    {
     "data": {
      "text/plain": [
       "array([[ 4,  3,  6,  5],\n",
       "       [ 5,  8, 99,  8],\n",
       "       [10, 20, 30, 20]])"
      ]
     },
     "execution_count": 75,
     "metadata": {},
     "output_type": "execute_result"
    }
   ],
   "source": [
    "np.delete(a6, (3), axis=1)"
   ]
  },
  {
   "cell_type": "code",
   "execution_count": 76,
   "id": "b5a1e570",
   "metadata": {},
   "outputs": [],
   "source": [
    "list1 = [5, 6, 7, 8, 9, 4]"
   ]
  },
  {
   "cell_type": "code",
   "execution_count": 77,
   "id": "740cec15",
   "metadata": {},
   "outputs": [
    {
     "data": {
      "text/plain": [
       "[7, 8, 9]"
      ]
     },
     "execution_count": 77,
     "metadata": {},
     "output_type": "execute_result"
    }
   ],
   "source": [
    "list1[2:5]"
   ]
  },
  {
   "cell_type": "code",
   "execution_count": 90,
   "id": "9b90c2c3",
   "metadata": {},
   "outputs": [],
   "source": [
    "a1 = np.array([list1])\n"
   ]
  },
  {
   "cell_type": "code",
   "execution_count": 91,
   "id": "64702d3e",
   "metadata": {},
   "outputs": [
    {
     "data": {
      "text/plain": [
       "array([[5, 6, 7, 8, 9, 4]])"
      ]
     },
     "execution_count": 91,
     "metadata": {},
     "output_type": "execute_result"
    }
   ],
   "source": [
    "a1"
   ]
  },
  {
   "cell_type": "code",
   "execution_count": 93,
   "id": "ffd5ac7e",
   "metadata": {},
   "outputs": [
    {
     "ename": "IndexError",
     "evalue": "index 2 is out of bounds for axis 0 with size 1",
     "output_type": "error",
     "traceback": [
      "\u001b[1;31m---------------------------------------------------------------------------\u001b[0m",
      "\u001b[1;31mIndexError\u001b[0m                                Traceback (most recent call last)",
      "\u001b[1;32m~\\AppData\\Local\\Temp\\ipykernel_4520\\1915494713.py\u001b[0m in \u001b[0;36m<module>\u001b[1;34m\u001b[0m\n\u001b[1;32m----> 1\u001b[1;33m \u001b[0ma1\u001b[0m\u001b[1;33m[\u001b[0m\u001b[1;33m[\u001b[0m\u001b[1;36m2\u001b[0m\u001b[1;33m,\u001b[0m\u001b[1;36m3\u001b[0m\u001b[1;33m,\u001b[0m\u001b[1;36m5\u001b[0m\u001b[1;33m]\u001b[0m\u001b[1;33m]\u001b[0m\u001b[1;33m\u001b[0m\u001b[1;33m\u001b[0m\u001b[0m\n\u001b[0m",
      "\u001b[1;31mIndexError\u001b[0m: index 2 is out of bounds for axis 0 with size 1"
     ]
    }
   ],
   "source": [
    "a1[[2,3,5]]"
   ]
  },
  {
   "cell_type": "code",
   "execution_count": 104,
   "id": "09b37d34",
   "metadata": {},
   "outputs": [],
   "source": [
    "a1 = np.array([5,6,9])\n",
    "a2 = np.array([2,1,3])\n",
    "a3 = a1+a2\n",
    "a4 = a1-a2\n",
    "a5 = a1/a2\n",
    "a6 = a1*a2"
   ]
  },
  {
   "cell_type": "code",
   "execution_count": 105,
   "id": "3e116cfd",
   "metadata": {},
   "outputs": [
    {
     "name": "stdout",
     "output_type": "stream",
     "text": [
      "[ 7  7 12]\n",
      "[3 5 6]\n",
      "[2.5 6.  3. ]\n",
      "[10  6 27]\n"
     ]
    }
   ],
   "source": [
    "print(a3)\n",
    "print(a4)\n",
    "print(a5)\n",
    "print(a6)"
   ]
  },
  {
   "cell_type": "code",
   "execution_count": 107,
   "id": "d4fbe969",
   "metadata": {},
   "outputs": [],
   "source": [
    "list1 = [5,8,9,3,5,7,6,2,8]\n",
    "a1 = np.array(list1)"
   ]
  },
  {
   "cell_type": "code",
   "execution_count": 108,
   "id": "10c044b9",
   "metadata": {},
   "outputs": [
    {
     "data": {
      "text/plain": [
       "array([9, 5, 7, 8])"
      ]
     },
     "execution_count": 108,
     "metadata": {},
     "output_type": "execute_result"
    }
   ],
   "source": [
    "a1[[2,4,5,8]]"
   ]
  },
  {
   "cell_type": "code",
   "execution_count": 113,
   "id": "c7d76c43",
   "metadata": {},
   "outputs": [
    {
     "name": "stdout",
     "output_type": "stream",
     "text": [
      "[5 8 9 3 5 7 6 2 8]\n",
      "[5 8 9]\n",
      "[5 7 6 2 8]\n"
     ]
    }
   ],
   "source": [
    "print(a1[:])\n",
    "print(a1[:3])\n",
    "print(a1[4:])"
   ]
  },
  {
   "cell_type": "code",
   "execution_count": 110,
   "id": "7001c63f",
   "metadata": {},
   "outputs": [
    {
     "data": {
      "text/plain": [
       "array([5, 8])"
      ]
     },
     "execution_count": 110,
     "metadata": {},
     "output_type": "execute_result"
    }
   ],
   "source": [
    "a1[:2]"
   ]
  },
  {
   "cell_type": "code",
   "execution_count": 114,
   "id": "8afc27e8",
   "metadata": {},
   "outputs": [
    {
     "data": {
      "text/plain": [
       "array([5, 8, 9, 3, 5, 7, 6, 2, 8])"
      ]
     },
     "execution_count": 114,
     "metadata": {},
     "output_type": "execute_result"
    }
   ],
   "source": [
    "a1"
   ]
  },
  {
   "cell_type": "code",
   "execution_count": 115,
   "id": "8c042b76",
   "metadata": {},
   "outputs": [
    {
     "data": {
      "text/plain": [
       "[2, 3, 5, 5, 6, 7, 8, 8, 9]"
      ]
     },
     "execution_count": 115,
     "metadata": {},
     "output_type": "execute_result"
    }
   ],
   "source": [
    "a1_sorted = sorted(a1)\n",
    "a1_sorted"
   ]
  },
  {
   "cell_type": "code",
   "execution_count": 116,
   "id": "abfbe00e",
   "metadata": {},
   "outputs": [
    {
     "data": {
      "text/plain": [
       "array([ 2,  4,  5, 64,  7,  8,  1,  5])"
      ]
     },
     "execution_count": 116,
     "metadata": {},
     "output_type": "execute_result"
    }
   ],
   "source": [
    "b1 = np.array([2,4,5,64,7,8,1,5])\n",
    "b1"
   ]
  },
  {
   "cell_type": "code",
   "execution_count": 121,
   "id": "f6d14700",
   "metadata": {},
   "outputs": [
    {
     "name": "stdout",
     "output_type": "stream",
     "text": [
      "(array([0, 1, 2, 6, 7], dtype=int64),)\n",
      "[2 4 5 1 5]\n"
     ]
    }
   ],
   "source": [
    "fail = np.where(b1<6)\n",
    "print(fail)\n",
    "print(b1[fail])"
   ]
  },
  {
   "cell_type": "code",
   "execution_count": 123,
   "id": "18a87c6f",
   "metadata": {},
   "outputs": [
    {
     "data": {
      "text/plain": [
       "array([2, 4, 5, 1, 5])"
      ]
     },
     "execution_count": 123,
     "metadata": {},
     "output_type": "execute_result"
    }
   ],
   "source": [
    "values = b1[fail]\n",
    "values"
   ]
  },
  {
   "cell_type": "code",
   "execution_count": 124,
   "id": "4d2c02e5",
   "metadata": {},
   "outputs": [
    {
     "data": {
      "text/plain": [
       "array([ True,  True, False, False, False, False,  True, False])"
      ]
     },
     "execution_count": 124,
     "metadata": {},
     "output_type": "execute_result"
    }
   ],
   "source": [
    "b1 < 5"
   ]
  },
  {
   "cell_type": "code",
   "execution_count": null,
   "id": "0ba76da0",
   "metadata": {},
   "outputs": [],
   "source": [
    "# input to the where command is a logical statement which could be true or false\n",
    "# output of the where command is the index or indices where the condition is found to be true\n"
   ]
  },
  {
   "cell_type": "code",
   "execution_count": 126,
   "id": "0578c875",
   "metadata": {},
   "outputs": [
    {
     "data": {
      "text/plain": [
       "array([ 5,  6,  4,  8,  9, 10])"
      ]
     },
     "execution_count": 126,
     "metadata": {},
     "output_type": "execute_result"
    }
   ],
   "source": [
    "k = np.array([5,6,4,8,9,10])\n",
    "k"
   ]
  },
  {
   "cell_type": "code",
   "execution_count": 132,
   "id": "5c38d9b9",
   "metadata": {},
   "outputs": [
    {
     "data": {
      "text/plain": [
       "1"
      ]
     },
     "execution_count": 132,
     "metadata": {},
     "output_type": "execute_result"
    }
   ],
   "source": [
    "(k>9).sum()  # Total elements greater than 9"
   ]
  },
  {
   "cell_type": "code",
   "execution_count": 133,
   "id": "620a67cd",
   "metadata": {},
   "outputs": [
    {
     "data": {
      "text/plain": [
       "6"
      ]
     },
     "execution_count": 133,
     "metadata": {},
     "output_type": "execute_result"
    }
   ],
   "source": [
    "(k>=4).sum()"
   ]
  },
  {
   "cell_type": "code",
   "execution_count": 142,
   "id": "701b739d",
   "metadata": {},
   "outputs": [
    {
     "data": {
      "text/plain": [
       "array([10,  2, 15,  6,  4,  8,  9])"
      ]
     },
     "execution_count": 142,
     "metadata": {},
     "output_type": "execute_result"
    }
   ],
   "source": [
    "r = np.array([10,2,15,6,4,8,9])\n",
    "r"
   ]
  },
  {
   "cell_type": "code",
   "execution_count": 144,
   "id": "0bcf501b",
   "metadata": {},
   "outputs": [
    {
     "data": {
      "text/plain": [
       "(array([0, 1, 3, 4, 5], dtype=int64),)"
      ]
     },
     "execution_count": 144,
     "metadata": {},
     "output_type": "execute_result"
    }
   ],
   "source": [
    "r1 = np.where(r%2==0)\n",
    "r1"
   ]
  },
  {
   "cell_type": "code",
   "execution_count": 145,
   "id": "1336e1c5",
   "metadata": {},
   "outputs": [
    {
     "data": {
      "text/plain": [
       "array([10,  2,  6,  4,  8])"
      ]
     },
     "execution_count": 145,
     "metadata": {},
     "output_type": "execute_result"
    }
   ],
   "source": [
    "r[r1]"
   ]
  },
  {
   "cell_type": "code",
   "execution_count": 147,
   "id": "9b652bd8",
   "metadata": {},
   "outputs": [
    {
     "data": {
      "text/plain": [
       "array([ True,  True, False,  True,  True,  True, False])"
      ]
     },
     "execution_count": 147,
     "metadata": {},
     "output_type": "execute_result"
    }
   ],
   "source": [
    "(r%2==0)"
   ]
  },
  {
   "cell_type": "code",
   "execution_count": 148,
   "id": "c89d3fd0",
   "metadata": {},
   "outputs": [
    {
     "data": {
      "text/plain": [
       "5"
      ]
     },
     "execution_count": 148,
     "metadata": {},
     "output_type": "execute_result"
    }
   ],
   "source": [
    "(r%2==0).sum()"
   ]
  },
  {
   "cell_type": "code",
   "execution_count": 149,
   "id": "c3136191",
   "metadata": {},
   "outputs": [
    {
     "data": {
      "text/plain": [
       "array([10,  2, 15,  6,  4,  8,  9])"
      ]
     },
     "execution_count": 149,
     "metadata": {},
     "output_type": "execute_result"
    }
   ],
   "source": [
    "r"
   ]
  },
  {
   "cell_type": "code",
   "execution_count": 150,
   "id": "6d94afea",
   "metadata": {},
   "outputs": [
    {
     "data": {
      "text/plain": [
       "(array([0, 2, 3, 5, 6], dtype=int64),)"
      ]
     },
     "execution_count": 150,
     "metadata": {},
     "output_type": "execute_result"
    }
   ],
   "source": [
    "np.where(r>4)"
   ]
  },
  {
   "cell_type": "code",
   "execution_count": 152,
   "id": "3958390a",
   "metadata": {},
   "outputs": [
    {
     "name": "stdout",
     "output_type": "stream",
     "text": [
      "[2 1 3 4]\n",
      "[5 4 6 2]\n"
     ]
    }
   ],
   "source": [
    "a = np.array([2,1,3,4])\n",
    "b = np.array([5,4,6,2])\n",
    "print(a)\n",
    "print(b)"
   ]
  },
  {
   "cell_type": "code",
   "execution_count": 167,
   "id": "6aed08e5",
   "metadata": {},
   "outputs": [
    {
     "data": {
      "text/plain": [
       "array([2, 1, 3, 4, 5, 4, 6, 2, 5, 4, 6, 2, 5, 4, 6, 2])"
      ]
     },
     "execution_count": 167,
     "metadata": {},
     "output_type": "execute_result"
    }
   ],
   "source": [
    "c = np.concatenate((a, b))\n",
    "c"
   ]
  },
  {
   "cell_type": "code",
   "execution_count": 168,
   "id": "22e1a15c",
   "metadata": {},
   "outputs": [
    {
     "data": {
      "text/plain": [
       "array([[2, 1, 3],\n",
       "       [4, 5, 4],\n",
       "       [6, 2, 5],\n",
       "       [4, 6, 2]])"
      ]
     },
     "execution_count": 168,
     "metadata": {},
     "output_type": "execute_result"
    }
   ],
   "source": [
    "d = a.reshape(4,-1)\n",
    "d"
   ]
  },
  {
   "cell_type": "code",
   "execution_count": 169,
   "id": "305846cb",
   "metadata": {},
   "outputs": [
    {
     "data": {
      "text/plain": [
       "(array([1, 2, 2, 3], dtype=int64), array([1, 0, 2, 1], dtype=int64))"
      ]
     },
     "execution_count": 169,
     "metadata": {},
     "output_type": "execute_result"
    }
   ],
   "source": [
    "np.where(d>4)"
   ]
  },
  {
   "cell_type": "code",
   "execution_count": 171,
   "id": "3120198a",
   "metadata": {},
   "outputs": [
    {
     "data": {
      "text/plain": [
       "array([1, 2, 2, 3], dtype=int64)"
      ]
     },
     "execution_count": 171,
     "metadata": {},
     "output_type": "execute_result"
    }
   ],
   "source": [
    "np.where(d>4)[0]"
   ]
  },
  {
   "cell_type": "code",
   "execution_count": 172,
   "id": "b1c22ada",
   "metadata": {},
   "outputs": [
    {
     "data": {
      "text/plain": [
       "array([1, 0, 2, 1], dtype=int64)"
      ]
     },
     "execution_count": 172,
     "metadata": {},
     "output_type": "execute_result"
    }
   ],
   "source": [
    "np.where(d>4)[1]"
   ]
  },
  {
   "cell_type": "code",
   "execution_count": 174,
   "id": "b691cddf",
   "metadata": {},
   "outputs": [
    {
     "data": {
      "text/plain": [
       "array([1, 2, 3, 4, 5, 6])"
      ]
     },
     "execution_count": 174,
     "metadata": {},
     "output_type": "execute_result"
    }
   ],
   "source": [
    "np.unique(c)"
   ]
  },
  {
   "cell_type": "code",
   "execution_count": 175,
   "id": "f3c50706",
   "metadata": {},
   "outputs": [
    {
     "data": {
      "text/plain": [
       "array([1, 2, 3, 4, 5, 6])"
      ]
     },
     "execution_count": 175,
     "metadata": {},
     "output_type": "execute_result"
    }
   ],
   "source": [
    "np.unique(d)"
   ]
  },
  {
   "cell_type": "code",
   "execution_count": 176,
   "id": "ee3e0173",
   "metadata": {},
   "outputs": [
    {
     "data": {
      "text/plain": [
       "array([2, 1, 3, 4, 5, 4, 6, 2, 5, 4, 6, 2, 5, 4, 6, 2])"
      ]
     },
     "execution_count": 176,
     "metadata": {},
     "output_type": "execute_result"
    }
   ],
   "source": [
    "c"
   ]
  },
  {
   "cell_type": "code",
   "execution_count": 178,
   "id": "5cdbc1ba",
   "metadata": {},
   "outputs": [
    {
     "data": {
      "text/plain": [
       "array([ True, False, False,  True,  True,  True, False,  True,  True,\n",
       "        True, False,  True,  True,  True, False,  True])"
      ]
     },
     "execution_count": 178,
     "metadata": {},
     "output_type": "execute_result"
    }
   ],
   "source": [
    "np.in1d(c, [4,2,5])"
   ]
  },
  {
   "cell_type": "code",
   "execution_count": 179,
   "id": "d3a28f4b",
   "metadata": {},
   "outputs": [
    {
     "data": {
      "text/plain": [
       "(array([ 0,  3,  4,  5,  7,  8,  9, 11, 12, 13, 15], dtype=int64),)"
      ]
     },
     "execution_count": 179,
     "metadata": {},
     "output_type": "execute_result"
    }
   ],
   "source": [
    "np.where(np.in1d(c, [4,2,5]))"
   ]
  },
  {
   "cell_type": "code",
   "execution_count": 180,
   "id": "4c733cfd",
   "metadata": {},
   "outputs": [
    {
     "name": "stdout",
     "output_type": "stream",
     "text": [
      "[2 1 3 4]\n",
      "[5 4 6 2]\n"
     ]
    }
   ],
   "source": [
    "a = np.array([2,1,3,4])\n",
    "b = np.array([5,4,6,2])\n",
    "print(a)\n",
    "print(b)"
   ]
  },
  {
   "cell_type": "code",
   "execution_count": 181,
   "id": "02371cfb",
   "metadata": {},
   "outputs": [
    {
     "data": {
      "text/plain": [
       "array([2, 4])"
      ]
     },
     "execution_count": 181,
     "metadata": {},
     "output_type": "execute_result"
    }
   ],
   "source": [
    "np.intersect1d(a,b)"
   ]
  },
  {
   "cell_type": "code",
   "execution_count": 182,
   "id": "4431a63d",
   "metadata": {},
   "outputs": [
    {
     "data": {
      "text/plain": [
       "array([1, 2, 3, 4, 5, 6])"
      ]
     },
     "execution_count": 182,
     "metadata": {},
     "output_type": "execute_result"
    }
   ],
   "source": [
    "np.union1d(a,b)"
   ]
  },
  {
   "cell_type": "code",
   "execution_count": 183,
   "id": "811cb008",
   "metadata": {},
   "outputs": [
    {
     "data": {
      "text/plain": [
       "array([1, 3])"
      ]
     },
     "execution_count": 183,
     "metadata": {},
     "output_type": "execute_result"
    }
   ],
   "source": [
    "np.setdiff1d(a,b)"
   ]
  },
  {
   "cell_type": "code",
   "execution_count": 185,
   "id": "4a0da15e",
   "metadata": {},
   "outputs": [
    {
     "data": {
      "text/plain": [
       "array([5, 6])"
      ]
     },
     "execution_count": 185,
     "metadata": {},
     "output_type": "execute_result"
    }
   ],
   "source": [
    "np.setdiff1d(b,a)"
   ]
  },
  {
   "cell_type": "code",
   "execution_count": 186,
   "id": "1bf10392",
   "metadata": {},
   "outputs": [
    {
     "data": {
      "text/plain": [
       "array([1, 3, 5, 6])"
      ]
     },
     "execution_count": 186,
     "metadata": {},
     "output_type": "execute_result"
    }
   ],
   "source": [
    "np.setxor1d(a,b)"
   ]
  },
  {
   "cell_type": "code",
   "execution_count": 187,
   "id": "bdd219c0",
   "metadata": {},
   "outputs": [],
   "source": [
    "# intersection - AND\n",
    "# union – OR\n",
    "# np.setdiff1d(x,y) This command gives the exclusive elements of x which are not there in ys"
   ]
  },
  {
   "cell_type": "code",
   "execution_count": 4,
   "id": "735d256b",
   "metadata": {},
   "outputs": [],
   "source": [
    "x = np.array([[1,2,3],[4,5,6]])"
   ]
  },
  {
   "cell_type": "code",
   "execution_count": 5,
   "id": "bbf2e782",
   "metadata": {},
   "outputs": [],
   "source": [
    "y = np.array([[6,7], [10,11], [14,15]])"
   ]
  },
  {
   "cell_type": "code",
   "execution_count": 6,
   "id": "d92589c0",
   "metadata": {},
   "outputs": [
    {
     "data": {
      "text/plain": [
       "array([[1, 2, 3],\n",
       "       [4, 5, 6]])"
      ]
     },
     "execution_count": 6,
     "metadata": {},
     "output_type": "execute_result"
    }
   ],
   "source": [
    "x"
   ]
  },
  {
   "cell_type": "code",
   "execution_count": 7,
   "id": "bf096e1c",
   "metadata": {},
   "outputs": [
    {
     "data": {
      "text/plain": [
       "array([[ 6,  7],\n",
       "       [10, 11],\n",
       "       [14, 15]])"
      ]
     },
     "execution_count": 7,
     "metadata": {},
     "output_type": "execute_result"
    }
   ],
   "source": [
    "y"
   ]
  },
  {
   "cell_type": "code",
   "execution_count": 8,
   "id": "6e1694a4",
   "metadata": {},
   "outputs": [
    {
     "data": {
      "text/plain": [
       "(2, 3)"
      ]
     },
     "execution_count": 8,
     "metadata": {},
     "output_type": "execute_result"
    }
   ],
   "source": [
    "x.shape"
   ]
  },
  {
   "cell_type": "code",
   "execution_count": 9,
   "id": "e16c5587",
   "metadata": {},
   "outputs": [
    {
     "data": {
      "text/plain": [
       "(3, 2)"
      ]
     },
     "execution_count": 9,
     "metadata": {},
     "output_type": "execute_result"
    }
   ],
   "source": [
    "y.shape"
   ]
  },
  {
   "cell_type": "code",
   "execution_count": null,
   "id": "66057c72",
   "metadata": {},
   "outputs": [],
   "source": [
    "# Number of columns of first matrix should be equal to number of rows of second matrix"
   ]
  },
  {
   "cell_type": "code",
   "execution_count": 10,
   "id": "ee7b4887",
   "metadata": {},
   "outputs": [
    {
     "data": {
      "text/plain": [
       "array([[ 68,  74],\n",
       "       [158, 173]])"
      ]
     },
     "execution_count": 10,
     "metadata": {},
     "output_type": "execute_result"
    }
   ],
   "source": [
    "x.dot(y)\n",
    "# The size of matrix will be number of rows of first matrix and number of column of second matrix"
   ]
  },
  {
   "cell_type": "code",
   "execution_count": 11,
   "id": "57d3f370",
   "metadata": {},
   "outputs": [
    {
     "data": {
      "text/plain": [
       "array([[ 34,  47,  60],\n",
       "       [ 54,  75,  96],\n",
       "       [ 74, 103, 132]])"
      ]
     },
     "execution_count": 11,
     "metadata": {},
     "output_type": "execute_result"
    }
   ],
   "source": [
    "y.dot(x)"
   ]
  },
  {
   "cell_type": "code",
   "execution_count": 12,
   "id": "bdb0a572",
   "metadata": {},
   "outputs": [
    {
     "data": {
      "text/plain": [
       "array([[ 68,  74],\n",
       "       [158, 173]])"
      ]
     },
     "execution_count": 12,
     "metadata": {},
     "output_type": "execute_result"
    }
   ],
   "source": [
    "np.matmul(x,y)"
   ]
  },
  {
   "cell_type": "code",
   "execution_count": 13,
   "id": "11994d15",
   "metadata": {},
   "outputs": [
    {
     "data": {
      "text/plain": [
       "array([[ 34,  47,  60],\n",
       "       [ 54,  75,  96],\n",
       "       [ 74, 103, 132]])"
      ]
     },
     "execution_count": 13,
     "metadata": {},
     "output_type": "execute_result"
    }
   ],
   "source": [
    "np.matmul(y,x)"
   ]
  },
  {
   "cell_type": "code",
   "execution_count": 15,
   "id": "f8946c84",
   "metadata": {},
   "outputs": [],
   "source": [
    "from numpy import linalg"
   ]
  },
  {
   "cell_type": "code",
   "execution_count": 16,
   "id": "b242a45d",
   "metadata": {},
   "outputs": [],
   "source": [
    "from numpy.linalg import inv, qr"
   ]
  },
  {
   "cell_type": "code",
   "execution_count": 16,
   "id": "c72076a9",
   "metadata": {},
   "outputs": [],
   "source": [
    "list1 = [1,2,3]"
   ]
  },
  {
   "cell_type": "code",
   "execution_count": 17,
   "id": "fb187c30",
   "metadata": {},
   "outputs": [],
   "source": [
    "list2 = [4,5,6]"
   ]
  },
  {
   "cell_type": "code",
   "execution_count": 18,
   "id": "630e93ac",
   "metadata": {},
   "outputs": [],
   "source": [
    "list3 = [7,8,9]"
   ]
  },
  {
   "cell_type": "code",
   "execution_count": 20,
   "id": "bd2c0161",
   "metadata": {},
   "outputs": [
    {
     "data": {
      "text/plain": [
       "array([[1, 2, 3],\n",
       "       [4, 5, 6],\n",
       "       [7, 8, 9]])"
      ]
     },
     "execution_count": 20,
     "metadata": {},
     "output_type": "execute_result"
    }
   ],
   "source": [
    "arr1 = np.array([list1, list2, list3])\n",
    "arr1"
   ]
  },
  {
   "cell_type": "code",
   "execution_count": 23,
   "id": "040f91e2",
   "metadata": {},
   "outputs": [
    {
     "data": {
      "text/plain": [
       "array([[ 3.15251974e+15, -6.30503948e+15,  3.15251974e+15],\n",
       "       [-6.30503948e+15,  1.26100790e+16, -6.30503948e+15],\n",
       "       [ 3.15251974e+15, -6.30503948e+15,  3.15251974e+15]])"
      ]
     },
     "execution_count": 23,
     "metadata": {},
     "output_type": "execute_result"
    }
   ],
   "source": [
    "np.linalg.inv(arr1)"
   ]
  },
  {
   "cell_type": "code",
   "execution_count": 24,
   "id": "7e11da4f",
   "metadata": {},
   "outputs": [
    {
     "data": {
      "text/plain": [
       "-9.51619735392994e-16"
      ]
     },
     "execution_count": 24,
     "metadata": {},
     "output_type": "execute_result"
    }
   ],
   "source": [
    "np.linalg.det(arr1) # determinant"
   ]
  },
  {
   "cell_type": "code",
   "execution_count": null,
   "id": "fde4f169",
   "metadata": {},
   "outputs": [],
   "source": [
    "# x + y+ z = 6             # Coefficient on left side ..todo \n",
    "# 2y + 5z = -4\n",
    "# 2x + 5y - z = 27         # constants on right side\n"
   ]
  },
  {
   "cell_type": "code",
   "execution_count": 25,
   "id": "8170e8f2",
   "metadata": {},
   "outputs": [
    {
     "data": {
      "text/plain": [
       "array([[ 1,  1,  1],\n",
       "       [ 0,  2,  5],\n",
       "       [ 2,  5, -1]])"
      ]
     },
     "execution_count": 25,
     "metadata": {},
     "output_type": "execute_result"
    }
   ],
   "source": [
    "a = np.array([[1,1,1], [0,2,5], [2,5,-1]]) \n",
    "a"
   ]
  },
  {
   "cell_type": "code",
   "execution_count": 26,
   "id": "93c0cd67",
   "metadata": {},
   "outputs": [
    {
     "data": {
      "text/plain": [
       "array([ 6, -4, 27])"
      ]
     },
     "execution_count": 26,
     "metadata": {},
     "output_type": "execute_result"
    }
   ],
   "source": [
    "b = np.array([6,-4,27])  \n",
    "b"
   ]
  },
  {
   "cell_type": "code",
   "execution_count": null,
   "id": "69aa4ed8",
   "metadata": {},
   "outputs": [],
   "source": [
    "# To find inverse of a"
   ]
  },
  {
   "cell_type": "code",
   "execution_count": 28,
   "id": "b9edfad7",
   "metadata": {},
   "outputs": [
    {
     "data": {
      "text/plain": [
       "array([[ 1.28571429, -0.28571429, -0.14285714],\n",
       "       [-0.47619048,  0.14285714,  0.23809524],\n",
       "       [ 0.19047619,  0.14285714, -0.0952381 ]])"
      ]
     },
     "execution_count": 28,
     "metadata": {},
     "output_type": "execute_result"
    }
   ],
   "source": [
    "ainv = np.linalg.inv(a)\n",
    "ainv"
   ]
  },
  {
   "cell_type": "code",
   "execution_count": 29,
   "id": "d419abe1",
   "metadata": {},
   "outputs": [
    {
     "data": {
      "text/plain": [
       "array([ 5.,  3., -2.])"
      ]
     },
     "execution_count": 29,
     "metadata": {},
     "output_type": "execute_result"
    }
   ],
   "source": [
    "ainv.dot(b)"
   ]
  },
  {
   "cell_type": "code",
   "execution_count": 20,
   "id": "0577b066",
   "metadata": {},
   "outputs": [],
   "source": [
    "from numpy import random"
   ]
  },
  {
   "cell_type": "code",
   "execution_count": 32,
   "id": "3ccc5352",
   "metadata": {},
   "outputs": [
    {
     "data": {
      "text/plain": [
       "array([0.22967029, 0.23207556, 0.87591618, 0.11216492, 0.2502913 ,\n",
       "       0.59328485, 0.68466538, 0.3751455 , 0.21222267, 0.44050199])"
      ]
     },
     "execution_count": 32,
     "metadata": {},
     "output_type": "execute_result"
    }
   ],
   "source": [
    "np.random.rand(10)"
   ]
  },
  {
   "cell_type": "code",
   "execution_count": 33,
   "id": "092e6a59",
   "metadata": {},
   "outputs": [
    {
     "data": {
      "text/plain": [
       "array([3.72176199, 0.78631523, 8.82467606, 9.5285136 , 1.61153524,\n",
       "       2.71618379, 1.71598835, 2.03970423, 0.96525868, 0.87868576])"
      ]
     },
     "execution_count": 33,
     "metadata": {},
     "output_type": "execute_result"
    }
   ],
   "source": [
    "np.random.rand(10)*10"
   ]
  },
  {
   "cell_type": "code",
   "execution_count": 34,
   "id": "929c1279",
   "metadata": {},
   "outputs": [
    {
     "data": {
      "text/plain": [
       "array([95.36879588, 30.31305322, 51.5181454 , 47.75557565, 75.42550544,\n",
       "       24.54357804, 49.25432213, 11.93873496, 60.03875117, 53.2082157 ])"
      ]
     },
     "execution_count": 34,
     "metadata": {},
     "output_type": "execute_result"
    }
   ],
   "source": [
    "np.random.rand(10)*100"
   ]
  },
  {
   "cell_type": "code",
   "execution_count": 14,
   "id": "48145d09",
   "metadata": {},
   "outputs": [
    {
     "data": {
      "text/plain": [
       "10"
      ]
     },
     "execution_count": 14,
     "metadata": {},
     "output_type": "execute_result"
    }
   ],
   "source": [
    "np.random.randint(10, 11)"
   ]
  },
  {
   "cell_type": "code",
   "execution_count": 18,
   "id": "8c300d71",
   "metadata": {},
   "outputs": [
    {
     "data": {
      "text/plain": [
       "array([69, 65, 12, 66, 39, 59, 27, 61, 23, 18, 68, 45, 63, 27, 13])"
      ]
     },
     "execution_count": 18,
     "metadata": {},
     "output_type": "execute_result"
    }
   ],
   "source": [
    "np.random.randint(10,70,15)  # generates 15 random whole number between 10 and 70"
   ]
  },
  {
   "cell_type": "code",
   "execution_count": 21,
   "id": "80781585",
   "metadata": {},
   "outputs": [
    {
     "data": {
      "text/plain": [
       "4"
      ]
     },
     "execution_count": 21,
     "metadata": {},
     "output_type": "execute_result"
    }
   ],
   "source": [
    "list1 = [5,6,7,3]\n",
    "random.choice(list(set([x for x in range(1, 9)]) - set(list1)))  # Excluding some range"
   ]
  },
  {
   "cell_type": "code",
   "execution_count": 51,
   "id": "7f2bc6e2",
   "metadata": {},
   "outputs": [],
   "source": [
    "import os"
   ]
  },
  {
   "cell_type": "code",
   "execution_count": 52,
   "id": "c394052a",
   "metadata": {},
   "outputs": [
    {
     "data": {
      "text/plain": [
       "'C:\\\\Users\\\\Dell\\\\Desktop\\\\Statistics\\\\day_01_Introduction'"
      ]
     },
     "execution_count": 52,
     "metadata": {},
     "output_type": "execute_result"
    }
   ],
   "source": [
    "os.getcwd()"
   ]
  },
  {
   "cell_type": "code",
   "execution_count": 53,
   "id": "2fa2ce5c",
   "metadata": {},
   "outputs": [],
   "source": [
    "# os.chdir(r'C:\\Users\\Sudeep\\Desktop'  -> to change working directory"
   ]
  },
  {
   "cell_type": "code",
   "execution_count": 57,
   "id": "a6b5529a",
   "metadata": {},
   "outputs": [],
   "source": [
    "a = np.array([[1,1,1], [0,2,5], [2,5,-1]]) "
   ]
  },
  {
   "cell_type": "code",
   "execution_count": 58,
   "id": "91b43b68",
   "metadata": {},
   "outputs": [],
   "source": [
    "# To save array in working directory\n",
    "np.save('MyArrayy', a)"
   ]
  },
  {
   "cell_type": "code",
   "execution_count": 59,
   "id": "b209ba2f",
   "metadata": {},
   "outputs": [],
   "source": [
    "y = np.load('MyArrayy.npy')"
   ]
  },
  {
   "cell_type": "code",
   "execution_count": 60,
   "id": "0a1a7680",
   "metadata": {},
   "outputs": [
    {
     "data": {
      "text/plain": [
       "array([[ 1,  1,  1],\n",
       "       [ 0,  2,  5],\n",
       "       [ 2,  5, -1]])"
      ]
     },
     "execution_count": 60,
     "metadata": {},
     "output_type": "execute_result"
    }
   ],
   "source": [
    "y"
   ]
  },
  {
   "cell_type": "code",
   "execution_count": null,
   "id": "3d61486f",
   "metadata": {},
   "outputs": [],
   "source": [
    "# df.drop(df.columns[1], axis=1)"
   ]
  },
  {
   "cell_type": "code",
   "execution_count": null,
   "id": "76df27be",
   "metadata": {},
   "outputs": [],
   "source": []
  },
  {
   "cell_type": "code",
   "execution_count": null,
   "id": "b6ca1e1b",
   "metadata": {},
   "outputs": [],
   "source": []
  },
  {
   "cell_type": "code",
   "execution_count": null,
   "id": "55ee8e7e",
   "metadata": {},
   "outputs": [],
   "source": []
  },
  {
   "cell_type": "code",
   "execution_count": null,
   "id": "d8aed4b5",
   "metadata": {},
   "outputs": [],
   "source": []
  },
  {
   "cell_type": "code",
   "execution_count": null,
   "id": "fd984917",
   "metadata": {},
   "outputs": [],
   "source": []
  },
  {
   "cell_type": "code",
   "execution_count": null,
   "id": "e0febfc2",
   "metadata": {},
   "outputs": [],
   "source": []
  },
  {
   "cell_type": "code",
   "execution_count": null,
   "id": "4b6016d9",
   "metadata": {},
   "outputs": [],
   "source": []
  },
  {
   "cell_type": "code",
   "execution_count": null,
   "id": "0eefd877",
   "metadata": {},
   "outputs": [],
   "source": []
  },
  {
   "cell_type": "code",
   "execution_count": null,
   "id": "04e3f7df",
   "metadata": {},
   "outputs": [],
   "source": []
  },
  {
   "cell_type": "code",
   "execution_count": null,
   "id": "b733e6d5",
   "metadata": {},
   "outputs": [],
   "source": []
  },
  {
   "cell_type": "code",
   "execution_count": null,
   "id": "88efffab",
   "metadata": {},
   "outputs": [],
   "source": []
  },
  {
   "cell_type": "code",
   "execution_count": null,
   "id": "009bc7cf",
   "metadata": {},
   "outputs": [],
   "source": []
  },
  {
   "cell_type": "code",
   "execution_count": null,
   "id": "b1584fc4",
   "metadata": {},
   "outputs": [],
   "source": []
  },
  {
   "cell_type": "code",
   "execution_count": null,
   "id": "4fe13b25",
   "metadata": {},
   "outputs": [],
   "source": []
  },
  {
   "cell_type": "code",
   "execution_count": null,
   "id": "436edcf2",
   "metadata": {},
   "outputs": [],
   "source": []
  }
 ],
 "metadata": {
  "kernelspec": {
   "display_name": "Python 3 (ipykernel)",
   "language": "python",
   "name": "python3"
  },
  "language_info": {
   "codemirror_mode": {
    "name": "ipython",
    "version": 3
   },
   "file_extension": ".py",
   "mimetype": "text/x-python",
   "name": "python",
   "nbconvert_exporter": "python",
   "pygments_lexer": "ipython3",
   "version": "3.9.13"
  }
 },
 "nbformat": 4,
 "nbformat_minor": 5
}
